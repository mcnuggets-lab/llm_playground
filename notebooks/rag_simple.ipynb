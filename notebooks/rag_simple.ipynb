{
 "cells": [
  {
   "cell_type": "markdown",
   "metadata": {},
   "source": [
    "# Simple Retrieval Augmented Generation (RAG)\n",
    "\n",
    "This is an example of a simple RAG. Retrieval is manual and feed into the LLM at the very beginning. No agent is involved, hence it can be used with weaker models.\n",
    "\n",
    "We will use [FAISS](https://python.langchain.com/docs/integrations/vectorstores/faiss/) as the vector database (vectorstore)."
   ]
  },
  {
   "cell_type": "code",
   "execution_count": 1,
   "metadata": {},
   "outputs": [],
   "source": [
    "# !pip install faiss-cpu langchain_community langchain_openai pandas"
   ]
  },
  {
   "cell_type": "code",
   "execution_count": 2,
   "metadata": {},
   "outputs": [],
   "source": [
    "import os\n",
    "from uuid import uuid4\n",
    "\n",
    "import faiss\n",
    "import pandas as pd\n",
    "from dotenv import load_dotenv\n",
    "from langchain_community.docstore import InMemoryDocstore\n",
    "from langchain_community.embeddings import LlamafileEmbeddings\n",
    "from langchain_community.llms.llamafile import Llamafile\n",
    "from langchain_community.vectorstores import FAISS\n",
    "from langchain_core.documents import Document\n",
    "from langchain_core.prompts.prompt import PromptTemplate\n",
    "from langchain_core.runnables import chain\n",
    "from langchain_openai import ChatOpenAI\n",
    "from tqdm import tqdm"
   ]
  },
  {
   "cell_type": "code",
   "execution_count": 3,
   "metadata": {},
   "outputs": [
    {
     "data": {
      "text/plain": [
       "True"
      ]
     },
     "execution_count": 3,
     "metadata": {},
     "output_type": "execute_result"
    }
   ],
   "source": [
    "load_dotenv()"
   ]
  },
  {
   "cell_type": "markdown",
   "metadata": {},
   "source": [
    "## Load dataset and generate documents\n",
    "\n",
    "We use the [Complete Pokédex dataset](https://www.kaggle.com/datasets/cristobalmitchell/pokedex/data), which is a dataset about Pokemon\n",
    "but unfortunately not that complete.\n",
    "\n",
    "I've included a variant of it in the `data` folder, which I save the original file using comma\n",
    "separation and UTF-8 since the original file is hard to open directly using pandas."
   ]
  },
  {
   "cell_type": "code",
   "execution_count": 4,
   "metadata": {},
   "outputs": [],
   "source": [
    "df = pd.read_csv(\"../data/pokemon.csv\")"
   ]
  },
  {
   "cell_type": "code",
   "execution_count": 5,
   "metadata": {},
   "outputs": [
    {
     "data": {
      "text/html": [
       "<div>\n",
       "<style scoped>\n",
       "    .dataframe tbody tr th:only-of-type {\n",
       "        vertical-align: middle;\n",
       "    }\n",
       "\n",
       "    .dataframe tbody tr th {\n",
       "        vertical-align: top;\n",
       "    }\n",
       "\n",
       "    .dataframe thead th {\n",
       "        text-align: right;\n",
       "    }\n",
       "</style>\n",
       "<table border=\"1\" class=\"dataframe\">\n",
       "  <thead>\n",
       "    <tr style=\"text-align: right;\">\n",
       "      <th></th>\n",
       "      <th>national_number</th>\n",
       "      <th>gen</th>\n",
       "      <th>english_name</th>\n",
       "      <th>japanese_name</th>\n",
       "      <th>primary_type</th>\n",
       "      <th>secondary_type</th>\n",
       "      <th>classification</th>\n",
       "      <th>percent_male</th>\n",
       "      <th>percent_female</th>\n",
       "      <th>height_m</th>\n",
       "      <th>...</th>\n",
       "      <th>evochain_1</th>\n",
       "      <th>evochain_2</th>\n",
       "      <th>evochain_3</th>\n",
       "      <th>evochain_4</th>\n",
       "      <th>evochain_5</th>\n",
       "      <th>evochain_6</th>\n",
       "      <th>gigantamax</th>\n",
       "      <th>mega_evolution</th>\n",
       "      <th>mega_evolution_alt</th>\n",
       "      <th>description</th>\n",
       "    </tr>\n",
       "  </thead>\n",
       "  <tbody>\n",
       "    <tr>\n",
       "      <th>0</th>\n",
       "      <td>1</td>\n",
       "      <td>I</td>\n",
       "      <td>Bulbasaur</td>\n",
       "      <td>Fushigidane</td>\n",
       "      <td>grass</td>\n",
       "      <td>poison</td>\n",
       "      <td>Seed Pokémon</td>\n",
       "      <td>88.14</td>\n",
       "      <td>11.86</td>\n",
       "      <td>0.7</td>\n",
       "      <td>...</td>\n",
       "      <td>Level</td>\n",
       "      <td>Ivysaur</td>\n",
       "      <td>Level</td>\n",
       "      <td>Venusaur</td>\n",
       "      <td>NaN</td>\n",
       "      <td>NaN</td>\n",
       "      <td>NaN</td>\n",
       "      <td>NaN</td>\n",
       "      <td>NaN</td>\n",
       "      <td>There is a plant seed on its back right from t...</td>\n",
       "    </tr>\n",
       "    <tr>\n",
       "      <th>1</th>\n",
       "      <td>2</td>\n",
       "      <td>I</td>\n",
       "      <td>Ivysaur</td>\n",
       "      <td>Fushigisou</td>\n",
       "      <td>grass</td>\n",
       "      <td>poison</td>\n",
       "      <td>Seed Pokémon</td>\n",
       "      <td>88.14</td>\n",
       "      <td>11.86</td>\n",
       "      <td>1.0</td>\n",
       "      <td>...</td>\n",
       "      <td>Level</td>\n",
       "      <td>Ivysaur</td>\n",
       "      <td>Level</td>\n",
       "      <td>Venusaur</td>\n",
       "      <td>NaN</td>\n",
       "      <td>NaN</td>\n",
       "      <td>NaN</td>\n",
       "      <td>NaN</td>\n",
       "      <td>NaN</td>\n",
       "      <td>When the bulb on its back grows large, it appe...</td>\n",
       "    </tr>\n",
       "    <tr>\n",
       "      <th>2</th>\n",
       "      <td>3</td>\n",
       "      <td>I</td>\n",
       "      <td>Venusaur</td>\n",
       "      <td>Fushigibana</td>\n",
       "      <td>grass</td>\n",
       "      <td>poison</td>\n",
       "      <td>Seed Pokémon</td>\n",
       "      <td>88.14</td>\n",
       "      <td>11.86</td>\n",
       "      <td>2.0</td>\n",
       "      <td>...</td>\n",
       "      <td>Level</td>\n",
       "      <td>Ivysaur</td>\n",
       "      <td>Level</td>\n",
       "      <td>Venusaur</td>\n",
       "      <td>NaN</td>\n",
       "      <td>NaN</td>\n",
       "      <td>Gigantamax Venusaur</td>\n",
       "      <td>Mega Venusaur</td>\n",
       "      <td>NaN</td>\n",
       "      <td>Its plant blooms when it is absorbing solar en...</td>\n",
       "    </tr>\n",
       "    <tr>\n",
       "      <th>3</th>\n",
       "      <td>4</td>\n",
       "      <td>I</td>\n",
       "      <td>Charmander</td>\n",
       "      <td>Hitokage</td>\n",
       "      <td>fire</td>\n",
       "      <td>NaN</td>\n",
       "      <td>Lizard Pokémon</td>\n",
       "      <td>88.14</td>\n",
       "      <td>11.86</td>\n",
       "      <td>0.6</td>\n",
       "      <td>...</td>\n",
       "      <td>Level</td>\n",
       "      <td>Charmeleon</td>\n",
       "      <td>Level</td>\n",
       "      <td>Charizard</td>\n",
       "      <td>NaN</td>\n",
       "      <td>NaN</td>\n",
       "      <td>NaN</td>\n",
       "      <td>NaN</td>\n",
       "      <td>NaN</td>\n",
       "      <td>It has a preference for hot things. When it ra...</td>\n",
       "    </tr>\n",
       "    <tr>\n",
       "      <th>4</th>\n",
       "      <td>5</td>\n",
       "      <td>I</td>\n",
       "      <td>Charmeleon</td>\n",
       "      <td>Lizardo</td>\n",
       "      <td>fire</td>\n",
       "      <td>NaN</td>\n",
       "      <td>Flame Pokémon</td>\n",
       "      <td>88.14</td>\n",
       "      <td>11.86</td>\n",
       "      <td>1.1</td>\n",
       "      <td>...</td>\n",
       "      <td>Level</td>\n",
       "      <td>Charmeleon</td>\n",
       "      <td>Level</td>\n",
       "      <td>Charizard</td>\n",
       "      <td>NaN</td>\n",
       "      <td>NaN</td>\n",
       "      <td>NaN</td>\n",
       "      <td>NaN</td>\n",
       "      <td>NaN</td>\n",
       "      <td>It has a barbaric nature. In battle, it whips ...</td>\n",
       "    </tr>\n",
       "    <tr>\n",
       "      <th>...</th>\n",
       "      <td>...</td>\n",
       "      <td>...</td>\n",
       "      <td>...</td>\n",
       "      <td>...</td>\n",
       "      <td>...</td>\n",
       "      <td>...</td>\n",
       "      <td>...</td>\n",
       "      <td>...</td>\n",
       "      <td>...</td>\n",
       "      <td>...</td>\n",
       "      <td>...</td>\n",
       "      <td>...</td>\n",
       "      <td>...</td>\n",
       "      <td>...</td>\n",
       "      <td>...</td>\n",
       "      <td>...</td>\n",
       "      <td>...</td>\n",
       "      <td>...</td>\n",
       "      <td>...</td>\n",
       "      <td>...</td>\n",
       "      <td>...</td>\n",
       "    </tr>\n",
       "    <tr>\n",
       "      <th>893</th>\n",
       "      <td>894</td>\n",
       "      <td>VIII</td>\n",
       "      <td>Regieleki</td>\n",
       "      <td>Regieleki</td>\n",
       "      <td>electric</td>\n",
       "      <td>NaN</td>\n",
       "      <td>Electron Pokémon</td>\n",
       "      <td>NaN</td>\n",
       "      <td>NaN</td>\n",
       "      <td>1.2</td>\n",
       "      <td>...</td>\n",
       "      <td>NaN</td>\n",
       "      <td>NaN</td>\n",
       "      <td>NaN</td>\n",
       "      <td>NaN</td>\n",
       "      <td>NaN</td>\n",
       "      <td>NaN</td>\n",
       "      <td>NaN</td>\n",
       "      <td>NaN</td>\n",
       "      <td>NaN</td>\n",
       "      <td>This Pokémon is a cluster of electrical energy...</td>\n",
       "    </tr>\n",
       "    <tr>\n",
       "      <th>894</th>\n",
       "      <td>895</td>\n",
       "      <td>VIII</td>\n",
       "      <td>Regidrago</td>\n",
       "      <td>Regidrago</td>\n",
       "      <td>dragon</td>\n",
       "      <td>NaN</td>\n",
       "      <td>Dragon Orb Pokémon</td>\n",
       "      <td>NaN</td>\n",
       "      <td>NaN</td>\n",
       "      <td>2.1</td>\n",
       "      <td>...</td>\n",
       "      <td>NaN</td>\n",
       "      <td>NaN</td>\n",
       "      <td>NaN</td>\n",
       "      <td>NaN</td>\n",
       "      <td>NaN</td>\n",
       "      <td>NaN</td>\n",
       "      <td>NaN</td>\n",
       "      <td>NaN</td>\n",
       "      <td>NaN</td>\n",
       "      <td>An academic theory proposes that Regidrago’s a...</td>\n",
       "    </tr>\n",
       "    <tr>\n",
       "      <th>895</th>\n",
       "      <td>896</td>\n",
       "      <td>VIII</td>\n",
       "      <td>Glastrier</td>\n",
       "      <td>Blizapos</td>\n",
       "      <td>ice</td>\n",
       "      <td>NaN</td>\n",
       "      <td>Wild Horse Pokémon</td>\n",
       "      <td>NaN</td>\n",
       "      <td>NaN</td>\n",
       "      <td>2.2</td>\n",
       "      <td>...</td>\n",
       "      <td>NaN</td>\n",
       "      <td>NaN</td>\n",
       "      <td>NaN</td>\n",
       "      <td>NaN</td>\n",
       "      <td>NaN</td>\n",
       "      <td>NaN</td>\n",
       "      <td>NaN</td>\n",
       "      <td>NaN</td>\n",
       "      <td>NaN</td>\n",
       "      <td>Glastrier emits intense cold from its hooves. ...</td>\n",
       "    </tr>\n",
       "    <tr>\n",
       "      <th>896</th>\n",
       "      <td>897</td>\n",
       "      <td>VIII</td>\n",
       "      <td>Spectrier</td>\n",
       "      <td>Rayspos</td>\n",
       "      <td>ghost</td>\n",
       "      <td>NaN</td>\n",
       "      <td>Swift Horse Pokémon</td>\n",
       "      <td>NaN</td>\n",
       "      <td>NaN</td>\n",
       "      <td>2.0</td>\n",
       "      <td>...</td>\n",
       "      <td>NaN</td>\n",
       "      <td>NaN</td>\n",
       "      <td>NaN</td>\n",
       "      <td>NaN</td>\n",
       "      <td>NaN</td>\n",
       "      <td>NaN</td>\n",
       "      <td>NaN</td>\n",
       "      <td>NaN</td>\n",
       "      <td>NaN</td>\n",
       "      <td>It probes its surroundings with all its senses...</td>\n",
       "    </tr>\n",
       "    <tr>\n",
       "      <th>897</th>\n",
       "      <td>898</td>\n",
       "      <td>VIII</td>\n",
       "      <td>Calyrex</td>\n",
       "      <td>Badrex</td>\n",
       "      <td>psychic</td>\n",
       "      <td>grass</td>\n",
       "      <td>King Pokémon</td>\n",
       "      <td>NaN</td>\n",
       "      <td>NaN</td>\n",
       "      <td>1.1</td>\n",
       "      <td>...</td>\n",
       "      <td>NaN</td>\n",
       "      <td>NaN</td>\n",
       "      <td>NaN</td>\n",
       "      <td>NaN</td>\n",
       "      <td>NaN</td>\n",
       "      <td>NaN</td>\n",
       "      <td>NaN</td>\n",
       "      <td>NaN</td>\n",
       "      <td>NaN</td>\n",
       "      <td>Calyrex is a merciful Pokémon, capable of prov...</td>\n",
       "    </tr>\n",
       "  </tbody>\n",
       "</table>\n",
       "<p>898 rows × 55 columns</p>\n",
       "</div>"
      ],
      "text/plain": [
       "     national_number   gen english_name japanese_name primary_type  \\\n",
       "0                  1     I    Bulbasaur   Fushigidane        grass   \n",
       "1                  2     I      Ivysaur    Fushigisou        grass   \n",
       "2                  3     I     Venusaur   Fushigibana        grass   \n",
       "3                  4     I   Charmander      Hitokage         fire   \n",
       "4                  5     I   Charmeleon       Lizardo         fire   \n",
       "..               ...   ...          ...           ...          ...   \n",
       "893              894  VIII    Regieleki     Regieleki     electric   \n",
       "894              895  VIII    Regidrago     Regidrago       dragon   \n",
       "895              896  VIII    Glastrier      Blizapos          ice   \n",
       "896              897  VIII    Spectrier       Rayspos        ghost   \n",
       "897              898  VIII      Calyrex        Badrex      psychic   \n",
       "\n",
       "    secondary_type       classification percent_male percent_female  height_m  \\\n",
       "0           poison         Seed Pokémon        88.14          11.86       0.7   \n",
       "1           poison         Seed Pokémon        88.14          11.86       1.0   \n",
       "2           poison         Seed Pokémon        88.14          11.86       2.0   \n",
       "3              NaN       Lizard Pokémon        88.14          11.86       0.6   \n",
       "4              NaN        Flame Pokémon        88.14          11.86       1.1   \n",
       "..             ...                  ...          ...            ...       ...   \n",
       "893            NaN     Electron Pokémon          NaN            NaN       1.2   \n",
       "894            NaN   Dragon Orb Pokémon          NaN            NaN       2.1   \n",
       "895            NaN   Wild Horse Pokémon          NaN            NaN       2.2   \n",
       "896            NaN  Swift Horse Pokémon          NaN            NaN       2.0   \n",
       "897          grass         King Pokémon          NaN            NaN       1.1   \n",
       "\n",
       "     ...  evochain_1  evochain_2  evochain_3  evochain_4  evochain_5  \\\n",
       "0    ...      Level      Ivysaur      Level     Venusaur         NaN   \n",
       "1    ...      Level      Ivysaur      Level     Venusaur         NaN   \n",
       "2    ...      Level      Ivysaur      Level     Venusaur         NaN   \n",
       "3    ...      Level   Charmeleon      Level    Charizard         NaN   \n",
       "4    ...      Level   Charmeleon      Level    Charizard         NaN   \n",
       "..   ...         ...         ...         ...         ...         ...   \n",
       "893  ...         NaN         NaN         NaN         NaN         NaN   \n",
       "894  ...         NaN         NaN         NaN         NaN         NaN   \n",
       "895  ...         NaN         NaN         NaN         NaN         NaN   \n",
       "896  ...         NaN         NaN         NaN         NaN         NaN   \n",
       "897  ...         NaN         NaN         NaN         NaN         NaN   \n",
       "\n",
       "     evochain_6           gigantamax  mega_evolution  mega_evolution_alt  \\\n",
       "0           NaN                  NaN             NaN                 NaN   \n",
       "1           NaN                  NaN             NaN                 NaN   \n",
       "2           NaN  Gigantamax Venusaur   Mega Venusaur                 NaN   \n",
       "3           NaN                  NaN             NaN                 NaN   \n",
       "4           NaN                  NaN             NaN                 NaN   \n",
       "..          ...                  ...             ...                 ...   \n",
       "893         NaN                  NaN             NaN                 NaN   \n",
       "894         NaN                  NaN             NaN                 NaN   \n",
       "895         NaN                  NaN             NaN                 NaN   \n",
       "896         NaN                  NaN             NaN                 NaN   \n",
       "897         NaN                  NaN             NaN                 NaN   \n",
       "\n",
       "                                           description  \n",
       "0    There is a plant seed on its back right from t...  \n",
       "1    When the bulb on its back grows large, it appe...  \n",
       "2    Its plant blooms when it is absorbing solar en...  \n",
       "3    It has a preference for hot things. When it ra...  \n",
       "4    It has a barbaric nature. In battle, it whips ...  \n",
       "..                                                 ...  \n",
       "893  This Pokémon is a cluster of electrical energy...  \n",
       "894  An academic theory proposes that Regidrago’s a...  \n",
       "895  Glastrier emits intense cold from its hooves. ...  \n",
       "896  It probes its surroundings with all its senses...  \n",
       "897  Calyrex is a merciful Pokémon, capable of prov...  \n",
       "\n",
       "[898 rows x 55 columns]"
      ]
     },
     "execution_count": 5,
     "metadata": {},
     "output_type": "execute_result"
    }
   ],
   "source": [
    "df"
   ]
  },
  {
   "cell_type": "code",
   "execution_count": 8,
   "metadata": {},
   "outputs": [],
   "source": [
    "def generate_document(row):\n",
    "    doc = f\"\"\"Number: {row[\"national_number\"]:03}\n",
    "Generation: {row[\"gen\"]}\n",
    "Name: {row[\"english_name\"]}\n",
    "Type: {row[\"primary_type\"]}{\" / \" + row[\"secondary_type\"] if pd.notnull(row[\"secondary_type\"]) else \"\"}\n",
    "Species: {row[\"classification\"]}\n",
    "Abilities: {\", \".join([x for x in [row[\"abilities_0\"], row[\"abilities_1\"], row[\"abilities_2\"], row[\"abilities_hidden\"]] if pd.notnull(x)])}\n",
    "Evolutions: {\" -> \".join([x for x in [row[\"evochain_0\"], row[\"evochain_2\"], row[\"evochain_4\"], row[\"evochain_6\"]] if pd.notnull(x)])}\n",
    "Description: {row[\"description\"]}\"\"\"\n",
    "\n",
    "    return Document(page_content=doc, metadata={})"
   ]
  },
  {
   "cell_type": "code",
   "execution_count": 9,
   "metadata": {},
   "outputs": [],
   "source": [
    "df[\"document\"] = df.apply(generate_document, axis=1)"
   ]
  },
  {
   "cell_type": "code",
   "execution_count": 10,
   "metadata": {},
   "outputs": [
    {
     "name": "stdout",
     "output_type": "stream",
     "text": [
      "Number: 001\n",
      "Generation: I\n",
      "Name: Bulbasaur\n",
      "Type: grass / poison\n",
      "Species: Seed Pokémon\n",
      "Abilities: Overgrow, Chlorophyll\n",
      "Evolutions: Bulbasaur -> Ivysaur -> Venusaur\n",
      "Description: There is a plant seed on its back right from the day this Pokémon is born. The seed slowly grows larger.\n"
     ]
    }
   ],
   "source": [
    "print(df.loc[0, \"document\"].page_content)"
   ]
  },
  {
   "cell_type": "markdown",
   "metadata": {},
   "source": [
    "To shorten run time, we will only use pokemon from gen 1. If you have more computation power, or have access to a faster API for embeddings, you can use the full dataset."
   ]
  },
  {
   "cell_type": "code",
   "execution_count": 11,
   "metadata": {},
   "outputs": [],
   "source": [
    "df = df[df[\"gen\"] == \"I\"]"
   ]
  },
  {
   "cell_type": "markdown",
   "metadata": {},
   "source": [
    "## Define embedding and model"
   ]
  },
  {
   "cell_type": "markdown",
   "metadata": {},
   "source": [
    "We are using the `mxbai-embed-large-v1` Llamafile for embeddings, and `Llama3.2-3B` for the model itself. Note that `Llama3.2-3B` is a weak model that does not support tooling natively, so an agent build is not possible with this model."
   ]
  },
  {
   "cell_type": "code",
   "execution_count": 12,
   "metadata": {},
   "outputs": [],
   "source": [
    "embeddings = LlamafileEmbeddings()\n",
    "llm = Llamafile(base_url=\"http://localhost:8081\", temperature=0)\n",
    "\n",
    "# llm = ChatOpenAI(\n",
    "#     base_url=os.getenv(\"OPENAI_API_ENDPOINT\"),\n",
    "#     api_key=os.getenv(\"OPENAI_API_KEY\"),\n",
    "#     model=\"gpt-4o\",\n",
    "#     temperature=0,\n",
    "# )"
   ]
  },
  {
   "cell_type": "markdown",
   "metadata": {},
   "source": [
    "## Define vectorstore"
   ]
  },
  {
   "cell_type": "code",
   "execution_count": 13,
   "metadata": {},
   "outputs": [],
   "source": [
    "embed_dim = len(embeddings.embed_query(\"Hello World\"))\n",
    "index = faiss.IndexFlatL2(embed_dim)\n",
    "\n",
    "vector_store = FAISS(\n",
    "    embedding_function=embeddings,\n",
    "    index=index,\n",
    "    docstore=InMemoryDocstore(),\n",
    "    index_to_docstore_id={},\n",
    ")"
   ]
  },
  {
   "cell_type": "markdown",
   "metadata": {},
   "source": [
    "## Load documents into vectorstore\n",
    "\n",
    "Transform to langchain's Document format, which is suitable for the vector store to consume. Note that our documents are very short, so no chunking is necessary."
   ]
  },
  {
   "cell_type": "code",
   "execution_count": 14,
   "metadata": {},
   "outputs": [
    {
     "name": "stderr",
     "output_type": "stream",
     "text": [
      "100%|██████████| 151/151 [06:16<00:00,  2.49s/it]\n"
     ]
    }
   ],
   "source": [
    "documents = list(df[\"document\"])\n",
    "uuids = [str(uuid4()) for _ in range(len(documents))]\n",
    "for document, uid in zip(tqdm(documents), uuids):\n",
    "    vector_store.add_documents(documents=[document], ids=[uid])"
   ]
  },
  {
   "cell_type": "code",
   "execution_count": 15,
   "metadata": {},
   "outputs": [],
   "source": [
    "# save and local vectorstore\n",
    "\n",
    "vector_store.save_local(\"../pokemon_faiss_index\")\n",
    "\n",
    "# vector_store = FAISS.load_local(\n",
    "#     \"../pokemon_faiss_index\", embeddings, allow_dangerous_deserialization=True\n",
    "# )"
   ]
  },
  {
   "cell_type": "markdown",
   "metadata": {},
   "source": [
    "Test the vectorstore a bit."
   ]
  },
  {
   "cell_type": "code",
   "execution_count": 16,
   "metadata": {},
   "outputs": [
    {
     "name": "stdout",
     "output_type": "stream",
     "text": [
      "* [SIM=0.629744] Number: 061\n",
      "Generation: I\n",
      "Name: Poliwhirl\n",
      "Type: water\n",
      "Species: Tadpole Pokémon\n",
      "Abilities: Water Absorb, Damp, Swift Swim\n",
      "Evolutions: Poliwag -> Poliwhirl -> Poliwrath -> Politoed\n",
      "Description: Staring at the swirl on its belly causes drowsiness. This trait of Poliwhirl’s has been used in place of lullabies to get children to go to sleep.\n",
      "* [SIM=0.669929] Number: 097\n",
      "Generation: I\n",
      "Name: Hypno\n",
      "Type: psychic\n",
      "Species: Hypnosis Pokémon\n",
      "Abilities: Insomnia, Forewarn, Inner Focus\n",
      "Evolutions: Drowzee -> Hypno\n",
      "Description: Avoid eye contact if you come across one. It will try to put you to sleep by using its pendulum.\n",
      "* [SIM=0.689312] Number: 143\n",
      "Generation: I\n",
      "Name: Snorlax\n",
      "Type: normal\n",
      "Species: Sleeping Pokémon\n",
      "Abilities: Immunity, Thick Fat, Gluttony\n",
      "Evolutions: Munchlax -> Snorlax\n",
      "Description: It is not satisfied unless it eats over 880 pounds of food every day. When it is done eating, it goes promptly to sleep.\n"
     ]
    }
   ],
   "source": [
    "results = vector_store.similarity_search_with_score(\n",
    "    \"Which pokémon likes sleeping?\", k=3, filter={}\n",
    ")\n",
    "for res, score in results:\n",
    "    print(f\"* [SIM={score:3f}] {res.page_content}\")"
   ]
  },
  {
   "cell_type": "markdown",
   "metadata": {},
   "source": [
    "Make the vectorstore a LangChain retriever for chaining."
   ]
  },
  {
   "cell_type": "code",
   "execution_count": 17,
   "metadata": {},
   "outputs": [],
   "source": [
    "retriever = vector_store.as_retriever(\n",
    "    search_type=\"mmr\",\n",
    "    search_kwargs={\"k\": 3, \"fetch_k\": 20, \"lambda_mult\": 0.5},\n",
    ")"
   ]
  },
  {
   "cell_type": "code",
   "execution_count": 18,
   "metadata": {},
   "outputs": [
    {
     "name": "stdout",
     "output_type": "stream",
     "text": [
      "Number: 039\n",
      "Generation: I\n",
      "Name: Jigglypuff\n",
      "Type: normal / fairy\n",
      "Species: Balloon Pokémon\n",
      "Abilities: Cute Charm, Competitive, Friend Guard\n",
      "Evolutions: Igglybuff -> Jigglypuff -> Wigglytuff\n",
      "Description: Jigglypuff has top-notch lung capacity, even by comparison to other Pokémon. It won’t stop singing its lullabies until its foes fall asleep.\n",
      "----\n",
      "Number: 127\n",
      "Generation: I\n",
      "Name: Pinsir\n",
      "Type: bug\n",
      "Species: Stagbeetle Pokémon\n",
      "Abilities: Hyper Cutter, Mold Breaker, Moxie\n",
      "Evolutions: Pinsir\n",
      "Description: These Pokémon judge one another based on pincers. Thicker, more impressive pincers make for more popularity with the opposite gender.\n",
      "----\n",
      "Number: 025\n",
      "Generation: I\n",
      "Name: Pikachu\n",
      "Type: electric\n",
      "Species: Mouse Pokémon\n",
      "Abilities: Static, Lightning Rod\n",
      "Evolutions: Pichu -> Pikachu -> Raichu\n",
      "Description: Pikachu that can generate powerful electricity have cheek sacs that are extra soft and super stretchy.\n",
      "----\n"
     ]
    }
   ],
   "source": [
    "retr_res = retriever.invoke(\"Which pokémon is the cutest?\")\n",
    "for doc in retr_res:\n",
    "    print(doc.page_content)\n",
    "    print(\"----\")"
   ]
  },
  {
   "cell_type": "markdown",
   "metadata": {},
   "source": [
    "## Define chain and invoke"
   ]
  },
  {
   "cell_type": "markdown",
   "metadata": {},
   "source": [
    "### 1. Define chain"
   ]
  },
  {
   "cell_type": "code",
   "execution_count": 19,
   "metadata": {},
   "outputs": [],
   "source": [
    "prompt = PromptTemplate.from_template(\"\"\"You are an assistant for question-answering tasks. Use the following pieces of retrieved context to answer the question.\n",
    "If you don't know the answer, just say that you don't know. Use three sentences maximum and keep the answer concise.\n",
    "Question: {question} \n",
    "Context: {context} \n",
    "Answer:\n",
    "\"\"\")"
   ]
  },
  {
   "cell_type": "code",
   "execution_count": 20,
   "metadata": {},
   "outputs": [],
   "source": [
    "@chain\n",
    "def get_context(question):\n",
    "    \"\"\"Get context from the vectorstore given the question, then put them into a format suitable as input to the prompt.\"\"\"\n",
    "    return {\n",
    "        \"question\": question,\n",
    "        \"context\": retriever.invoke(question),\n",
    "    }"
   ]
  },
  {
   "cell_type": "markdown",
   "metadata": {},
   "source": [
    "### 2. Invoke"
   ]
  },
  {
   "cell_type": "code",
   "execution_count": 21,
   "metadata": {},
   "outputs": [],
   "source": [
    "question = \"Which pokémon likes sleeping?\"\n",
    "\n",
    "res = (get_context | prompt | llm).invoke(question)"
   ]
  },
  {
   "cell_type": "code",
   "execution_count": 22,
   "metadata": {},
   "outputs": [
    {
     "name": "stdout",
     "output_type": "stream",
     "text": [
      "Snorlax is the Pokémon that likes sleeping. It goes promptly to sleep after eating a large amount of food. Snorlax's need for food and subsequent sleep are described in its Pokédex entry.<|eot_id|>\n"
     ]
    }
   ],
   "source": [
    "print(res)"
   ]
  },
  {
   "cell_type": "markdown",
   "metadata": {},
   "source": [
    "Note that Snorlax is not the most similar item according to the vectorstore, but the model is able to pick the (more or less) correct answer."
   ]
  },
  {
   "cell_type": "code",
   "execution_count": 23,
   "metadata": {},
   "outputs": [],
   "source": [
    "question2 = \"Which pokémon is the cutest?\"\n",
    "\n",
    "res2 = (get_context | prompt | llm).invoke(question2)"
   ]
  },
  {
   "cell_type": "code",
   "execution_count": 24,
   "metadata": {},
   "outputs": [
    {
     "name": "stdout",
     "output_type": "stream",
     "text": [
      "I don't know. The provided context doesn't mention any pokémon as being the cutest, and it only includes descriptions of Jigglypuff's singing abilities, Pinsir's pincers, and Pikachu's cheek sacs. There is no clear indication of which pokémon might be considered cute.<|eot_id|>\n"
     ]
    }
   ],
   "source": [
    "print(res2)"
   ]
  },
  {
   "cell_type": "markdown",
   "metadata": {},
   "source": [
    "It seems the model is reluctant to answer anything subjective."
   ]
  },
  {
   "cell_type": "code",
   "execution_count": null,
   "metadata": {},
   "outputs": [],
   "source": []
  }
 ],
 "metadata": {
  "kernelspec": {
   "display_name": ".venv",
   "language": "python",
   "name": "python3"
  },
  "language_info": {
   "codemirror_mode": {
    "name": "ipython",
    "version": 3
   },
   "file_extension": ".py",
   "mimetype": "text/x-python",
   "name": "python",
   "nbconvert_exporter": "python",
   "pygments_lexer": "ipython3",
   "version": "3.12.4"
  }
 },
 "nbformat": 4,
 "nbformat_minor": 2
}
