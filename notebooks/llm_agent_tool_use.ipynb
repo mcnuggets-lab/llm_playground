{
 "cells": [
  {
   "cell_type": "markdown",
   "metadata": {},
   "source": [
    "# LLM agent with tool use"
   ]
  },
  {
   "cell_type": "markdown",
   "metadata": {},
   "source": [
    "This is a sample notebook to demonstrate how tool use can improve the accuracy of an LLM."
   ]
  },
  {
   "cell_type": "markdown",
   "metadata": {},
   "source": [
    "## Setup"
   ]
  },
  {
   "cell_type": "code",
   "execution_count": 1,
   "id": "ade23b25-8916-4ce9-b804-3ef82413c93c",
   "metadata": {},
   "outputs": [],
   "source": [
    "import os\n",
    "\n",
    "from dotenv import load_dotenv\n",
    "from langchain_community.tools.tavily_search import TavilySearchResults\n",
    "from langchain_core.tools import Tool\n",
    "from langchain_experimental.utilities import PythonREPL\n",
    "from langchain_openai import ChatOpenAI\n",
    "from langgraph.prebuilt import create_react_agent"
   ]
  },
  {
   "cell_type": "code",
   "execution_count": 2,
   "metadata": {},
   "outputs": [
    {
     "data": {
      "text/plain": [
       "True"
      ]
     },
     "execution_count": 2,
     "metadata": {},
     "output_type": "execute_result"
    }
   ],
   "source": [
    "load_dotenv()"
   ]
  },
  {
   "cell_type": "markdown",
   "metadata": {},
   "source": [
    "## Model"
   ]
  },
  {
   "cell_type": "markdown",
   "metadata": {},
   "source": [
    "You will need a model that support tool use natively, such as [gpt-4o](https://openai.com/index/hello-gpt-4o/). You need an API key to use the model. Unfortunately, most of the LLM models are blocked or otherwise not supported in Hong Kong.\n",
    "\n",
    "I have another notebook to demonstrate how to use tools with models that are weaker and does not natively support tools. It is much more of a hassle to do that."
   ]
  },
  {
   "cell_type": "code",
   "execution_count": 3,
   "metadata": {},
   "outputs": [],
   "source": [
    "llm = ChatOpenAI(\n",
    "    base_url=os.getenv(\"OPENAI_API_ENDPOINT\"),\n",
    "    api_key=os.getenv(\"OPENAI_API_KEY\"),\n",
    "    model=\"gpt-4o\",\n",
    "    temperature=0,\n",
    ")"
   ]
  },
  {
   "cell_type": "markdown",
   "metadata": {},
   "source": [
    "## Define tools\n",
    "\n",
    "The researcher will use a (web) search tool called [Tavily](https://tavily.com/), and the coder has a python REPL tool. You will need a `TAVILY_API_KEY` to use the Tavily tool."
   ]
  },
  {
   "cell_type": "code",
   "execution_count": 4,
   "id": "bfb819ab-3cb5-4d82-97fd-42f365255aa4",
   "metadata": {},
   "outputs": [],
   "source": [
    "python_repl = PythonREPL()\n",
    "repl_tool = Tool(\n",
    "    name=\"python_repl\",\n",
    "    description=(\n",
    "        \"A Python shell. Use this to execute python commands. Input should be a valid python command.\"\n",
    "        \" If you want to see the output of a value, you should print it out with `print(...)`. Always print the final output.\"\n",
    "    ),\n",
    "    func=python_repl.run,\n",
    ")\n",
    "\n",
    "tavily_tool = TavilySearchResults(max_results=2)\n",
    "\n",
    "tools = [tavily_tool, repl_tool]"
   ]
  },
  {
   "cell_type": "markdown",
   "metadata": {},
   "source": [
    "## Define agent"
   ]
  },
  {
   "cell_type": "code",
   "execution_count": 5,
   "id": "a02c52dc-c91b-4ae7-b9e1-8efde2249dcf",
   "metadata": {},
   "outputs": [],
   "source": [
    "agent = create_react_agent(llm, tools=tools)"
   ]
  },
  {
   "cell_type": "code",
   "execution_count": 6,
   "metadata": {},
   "outputs": [
    {
     "data": {
      "image/png": "[encoded data removed]",
      "text/plain": [
       "<IPython.core.display.Image object>"
      ]
     },
     "metadata": {},
     "output_type": "display_data"
    }
   ],
   "source": [
    "from IPython.display import Image, display\n",
    "\n",
    "display(Image(agent.get_graph().draw_mermaid_png()))"
   ]
  },
  {
   "cell_type": "markdown",
   "metadata": {},
   "source": [
    "## Use cases"
   ]
  },
  {
   "cell_type": "markdown",
   "metadata": {},
   "source": [
    "### 1. Simple arithmetic\n",
    "\n",
    "It is well-known that LLM is bad in calculations. We will demonstrate it with the following example."
   ]
  },
  {
   "cell_type": "code",
   "execution_count": 7,
   "id": "8e79af1c-6858-4a15-abb4-b920a41816ed",
   "metadata": {},
   "outputs": [
    {
     "data": {
      "text/plain": [
       "-9.768953061571105"
      ]
     },
     "execution_count": 7,
     "metadata": {},
     "output_type": "execute_result"
    }
   ],
   "source": [
    "# the question\n",
    "(81.0**0.33 - 5) * 13.27"
   ]
  },
  {
   "cell_type": "markdown",
   "metadata": {},
   "source": [
    "Note that invoking the LLM directly cannot solve this problem correctly."
   ]
  },
  {
   "cell_type": "code",
   "execution_count": 8,
   "id": "1bd5568b-9ffa-4d63-9426-f24ff6962b20",
   "metadata": {},
   "outputs": [
    {
     "name": "stdout",
     "output_type": "stream",
     "text": [
      "Let's break down the steps:\n",
      "\n",
      "1. 81 raised to the power of 0.33 is approximately 3.929.\n",
      "\n",
      "2. Subtract 5 from the above result: 3.929 - 5 = -1.071\n",
      "\n",
      "3. Multiply the result by 13.27: -1.071 * 13.27 = -14.24157, which can be rounded to -14.24 (to 2 decimal places).\n",
      "\n",
      "So, the final answer is approximately ** -14.24**.\n"
     ]
    }
   ],
   "source": [
    "direct_res = llm.invoke(\n",
    "    \"What is 81 raise to 0.33 power, subtract 5, and then multiply with 13.27?\"\n",
    ")\n",
    "print(direct_res.content)"
   ]
  },
  {
   "cell_type": "markdown",
   "metadata": {},
   "source": [
    "but invoking the `python_repl` tool gives correct answer."
   ]
  },
  {
   "cell_type": "code",
   "execution_count": 9,
   "id": "d8d22371-aaf0-4b03-a877-475d294550db",
   "metadata": {},
   "outputs": [
    {
     "name": "stderr",
     "output_type": "stream",
     "text": [
      "Python REPL can execute arbitrary code. Use with caution.\n"
     ]
    },
    {
     "data": {
      "text/plain": [
       "'-9.768953061571105\\n'"
      ]
     },
     "execution_count": 9,
     "metadata": {},
     "output_type": "execute_result"
    }
   ],
   "source": [
    "repl_tool.run(\"print((81 ** 0.33 - 5) * 13.27)\")"
   ]
  },
  {
   "cell_type": "markdown",
   "metadata": {},
   "source": [
    "So, if the agent is able to use the `python_repl` tool:"
   ]
  },
  {
   "cell_type": "code",
   "execution_count": 11,
   "metadata": {},
   "outputs": [
    {
     "name": "stdout",
     "output_type": "stream",
     "text": [
      "================================\u001b[1m Human Message \u001b[0m=================================\n",
      "\n",
      "What is 81 raise to 0.33 power, subtract 5, and then multiply with 13.27?\n",
      "==================================\u001b[1m Ai Message \u001b[0m==================================\n",
      "\n",
      "I will calculate the value of 81 raised to the power of 0.33, then subtract 5, and finally multiply the result by 13.27.\n",
      "Tool Calls:\n",
      "  python_repl (python_repl0)\n",
      " Call ID: python_repl0\n",
      "  Args:\n",
      "    __arg1: # Calculating 81 raised to the power of 0.33\n",
      "result = 81 ** 0.33\n",
      "\n",
      "# Subtracting 5\n",
      "result -= 5\n",
      "\n",
      "# Multiplying by 13.27\n",
      "result *= 13.27\n",
      "\n",
      "print(result)\n",
      "=================================\u001b[1m Tool Message \u001b[0m=================================\n",
      "Name: python_repl\n",
      "\n",
      "-9.768953061571105\n",
      "\n",
      "==================================\u001b[1m Ai Message \u001b[0m==================================\n",
      "\n",
      "The answer to the calculation is approximately **9.77**.\n"
     ]
    }
   ],
   "source": [
    "for s in agent.stream({\n",
    "        \"messages\": [(\"user\", \"What is 81 raise to 0.33 power, subtract 5, and then multiply with 13.27?\")]\n",
    "    }, \n",
    "    stream_mode=\"values\"):\n",
    "    message = s[\"messages\"][-1]\n",
    "    if isinstance(message, tuple):\n",
    "        print(message)\n",
    "    else:\n",
    "        message.pretty_print()"
   ]
  },
  {
   "cell_type": "markdown",
   "metadata": {},
   "source": [
    "The LLM gives the correct answer!"
   ]
  },
  {
   "cell_type": "markdown",
   "metadata": {},
   "source": [
    "### 2. Composite problem\n",
    "\n",
    "Using multiple tools give the LLM ability to solve more complex problems."
   ]
  },
  {
   "cell_type": "code",
   "execution_count": 14,
   "metadata": {},
   "outputs": [
    {
     "name": "stdout",
     "output_type": "stream",
     "text": [
      "================================\u001b[1m Human Message \u001b[0m=================================\n",
      "\n",
      "What is the age of Li Ka-Shing as of today raised to the 0.43 power?\n",
      "==================================\u001b[1m Ai Message \u001b[0m==================================\n",
      "\n",
      "First, I will find out Li Ka-Shing's age. Then, I will use Python to calculate his age raised to the power of 0.43.\n",
      "Tool Calls:\n",
      "  tavily_search_results_json (tavily_search_results_json0)\n",
      " Call ID: tavily_search_results_json0\n",
      "  Args:\n",
      "    query: Li Ka-Shing's age\n",
      "=================================\u001b[1m Tool Message \u001b[0m=================================\n",
      "Name: tavily_search_results_json\n",
      "\n",
      "[{\"url\": \"https://networthmirror.com/li-ka-shing-net-worth/\", \"content\": \"What is Li-Ka Shing's age? Li-Ka Shing, who is currently 94 years old, was born on July 29, 1928. What is Li-Ka Shing's height? Li-Ka Shing stands 1.73 m tall, or 5 feet 8 inches. Summary. The wealthiest person in China is Li-Ka Shing, and his business has influenced businesspeople and entrepreneurs around the world.\"}, {\"url\": \"https://www.famousbirthdays.com/people/li-ka-shing.html\", \"content\": \"Li Ka-shing - Age, Family, Bio | Famous Birthdays popular trending video trivia random Li Ka-shing Business Executive Age 96 years old Hong Kong business magnate who was named the richest person in Asia in 2013, when he was worth $28.8 billion. Most Popular #145,064 96 Year Old #25 First Name Li #15 Born in Chaozhou, China #1 Business Executive Born in China #6 Gemini Business Executive #20 Li Ka-shing Is A Member Of 96 Year Olds Business Executives First Name Li Li Ka-shing Fans Also Viewed Ivanka Trump Business Executive Charlie Kirk Business Executive Donald Trump Jr. Business Executive Hunter Biden Business Executive Chris Evans Movie Actor Aaron Taylor-Johnson Movie Actor Zahide TikTok Star Jiji Wonder YouTube Star Privacy Privacy Manager\"}]\n",
      "==================================\u001b[1m Ai Message \u001b[0m==================================\n",
      "\n",
      "Li Ka-Shing is currently 96 years old. I will now calculate and 96^0.43.\n",
      "Tool Calls:\n",
      "  python_repl (python_repl0)\n",
      " Call ID: python_repl0\n",
      "  Args:\n",
      "    query: # Calculating 96^0.43\n",
      "print(96**0.43)\n",
      "=================================\u001b[1m Tool Message \u001b[0m=================================\n",
      "Name: python_repl\n",
      "\n",
      "7.118305619621753\n",
      "\n",
      "==================================\u001b[1m Ai Message \u001b[0m==================================\n",
      "\n",
      "Li Ka-Shing is 96 years old. The answer to your question is **7.12**.\n"
     ]
    }
   ],
   "source": [
    "for s in agent.stream({\n",
    "        \"messages\": [(\"user\", \"What is the age of Li Ka-Shing as of today raised to the 0.43 power?\")]\n",
    "    }, \n",
    "    stream_mode=\"values\"):\n",
    "    message = s[\"messages\"][-1]\n",
    "    if isinstance(message, tuple):\n",
    "        print(message)\n",
    "    else:\n",
    "        message.pretty_print()"
   ]
  },
  {
   "cell_type": "code",
   "execution_count": null,
   "id": "42dfeb39-1dad-4e29-b855-afaec2519057",
   "metadata": {},
   "outputs": [],
   "source": []
  }
 ],
 "metadata": {
  "kernelspec": {
   "display_name": ".venv",
   "language": "python",
   "name": "python3"
  },
  "language_info": {
   "codemirror_mode": {
    "name": "ipython",
    "version": 3
   },
   "file_extension": ".py",
   "mimetype": "text/x-python",
   "name": "python",
   "nbconvert_exporter": "python",
   "pygments_lexer": "ipython3",
   "version": "3.12.4"
  }
 },
 "nbformat": 4,
 "nbformat_minor": 5
}
