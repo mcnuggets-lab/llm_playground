{
 "cells": [
  {
   "cell_type": "markdown",
   "metadata": {},
   "source": [
    "# A simple chatbot\n",
    "\n",
    "This notebook builds a simple chatbot using [LangGraph](https://www.langchain.com/langgraph). The human feedback part can be enhanced to become a human-in-the-loop construction for more complex tasks. We also take the chance to demonstrate how to use a memory saver to checkpoint and resume conversations."
   ]
  },
  {
   "cell_type": "code",
   "execution_count": 1,
   "metadata": {},
   "outputs": [],
   "source": [
    "import os\n",
    "from typing import Annotated\n",
    "\n",
    "from dotenv import load_dotenv\n",
    "from langchain_community.tools.tavily_search import TavilySearchResults\n",
    "from langchain_core.tools import tool\n",
    "from langchain_experimental.utilities import PythonREPL\n",
    "from langgraph.checkpoint.memory import MemorySaver\n",
    "from langchain_openai import ChatOpenAI\n",
    "from langgraph.graph import START, END, MessagesState, StateGraph\n",
    "from langgraph.prebuilt import ToolNode\n",
    "# from langgraph.types import Command, interrupt\n",
    "from IPython.display import Image"
   ]
  },
  {
   "cell_type": "code",
   "execution_count": 2,
   "metadata": {},
   "outputs": [
    {
     "data": {
      "text/plain": [
       "True"
      ]
     },
     "execution_count": 2,
     "metadata": {},
     "output_type": "execute_result"
    }
   ],
   "source": [
    "load_dotenv()"
   ]
  },
  {
   "cell_type": "markdown",
   "metadata": {},
   "source": [
    "## Define tools\n",
    "\n",
    "These are tools that the chatbot can use."
   ]
  },
  {
   "cell_type": "code",
   "execution_count": 3,
   "metadata": {},
   "outputs": [],
   "source": [
    "tavily_tool = TavilySearchResults(max_results=5)\n",
    "\n",
    "repl = PythonREPL()\n",
    "\n",
    "\n",
    "@tool\n",
    "def python_repl_tool(\n",
    "    code: Annotated[str, \"The python code to execute.\"],\n",
    "):\n",
    "    \"\"\"Use this to execute python code. If you want to see the output of a value,\n",
    "    you should print it out with `print(...)`. This is visible to the user.\"\"\"\n",
    "    try:\n",
    "        result = repl.run(code)\n",
    "    except BaseException as e:\n",
    "        return f\"Failed to execute. Error: {repr(e)}\"\n",
    "    result_str = f\"Successfully executed:\\n```python\\n{code}\\n```\\nStdout: {result}\"\n",
    "    return result_str\n",
    "\n",
    "tools = [tavily_tool, python_repl_tool]"
   ]
  },
  {
   "cell_type": "markdown",
   "metadata": {},
   "source": [
    "## Model"
   ]
  },
  {
   "cell_type": "code",
   "execution_count": 4,
   "metadata": {},
   "outputs": [],
   "source": [
    "llm = ChatOpenAI(\n",
    "    base_url=os.getenv(\"OPENAI_API_ENDPOINT\"),\n",
    "    api_key=os.getenv(\"OPENAI_API_KEY\"),\n",
    "    model=\"gpt-4o\",\n",
    "    temperature=0,\n",
    ")\n",
    "\n",
    "llm = llm.bind_tools(tools=tools)"
   ]
  },
  {
   "cell_type": "markdown",
   "metadata": {},
   "source": [
    "## Create graph"
   ]
  },
  {
   "cell_type": "markdown",
   "metadata": {},
   "source": [
    "### Define nodes"
   ]
  },
  {
   "cell_type": "code",
   "execution_count": 5,
   "metadata": {},
   "outputs": [],
   "source": [
    "def human_feedback_node(state: MessagesState):\n",
    "    # feedback = interrupt(\"Enter your message (If done, say FINISH):\")\n",
    "    feedback = input(\"Enter your message (If done, say FINISH):\")\n",
    "    return {\"messages\": [feedback]}"
   ]
  },
  {
   "cell_type": "code",
   "execution_count": 6,
   "metadata": {},
   "outputs": [],
   "source": [
    "def chatbot_node(state: MessagesState):\n",
    "    response = llm.invoke(state[\"messages\"])\n",
    "    return {\"messages\": [response]}"
   ]
  },
  {
   "cell_type": "code",
   "execution_count": 7,
   "metadata": {},
   "outputs": [],
   "source": [
    "tool_node = ToolNode(tools=tools)"
   ]
  },
  {
   "cell_type": "markdown",
   "metadata": {},
   "source": [
    "### Define routers (conditional edges)"
   ]
  },
  {
   "cell_type": "code",
   "execution_count": 8,
   "metadata": {},
   "outputs": [],
   "source": [
    "def human_router(state: MessagesState):\n",
    "    if isinstance(state, list):\n",
    "        message = state[-1]\n",
    "    elif messages := state.get(\"messages\", []):\n",
    "        message = messages[-1]\n",
    "    else:\n",
    "        raise ValueError(f\"No message found in the input state from human: {state}\")\n",
    "    if \"FINISH\" in message.content:\n",
    "        return END\n",
    "    return \"chatbot\""
   ]
  },
  {
   "cell_type": "code",
   "execution_count": 9,
   "metadata": {},
   "outputs": [],
   "source": [
    "def chatbot_router(state: MessagesState):\n",
    "    if isinstance(state, list):\n",
    "        message = state[-1]\n",
    "    elif messages := state.get(\"messages\", []):\n",
    "        message = messages[-1]\n",
    "    else:\n",
    "        raise ValueError(f\"No message found in the input state from chatbot: {state}\")\n",
    "    if hasattr(message, \"tool_calls\") and len(message.tool_calls) > 0:\n",
    "        return \"tools\"\n",
    "    return \"human\""
   ]
  },
  {
   "cell_type": "markdown",
   "metadata": {},
   "source": [
    "### Define graph"
   ]
  },
  {
   "cell_type": "code",
   "execution_count": 10,
   "metadata": {},
   "outputs": [],
   "source": [
    "workflow = StateGraph(MessagesState)\n",
    "\n",
    "workflow.add_node(\"human\", human_feedback_node)\n",
    "workflow.add_node(\"chatbot\", chatbot_node)\n",
    "workflow.add_node(\"tools\", tool_node)\n",
    "\n",
    "workflow.add_edge(START, \"human\")\n",
    "workflow.add_conditional_edges(\"human\", human_router)\n",
    "workflow.add_conditional_edges(\"chatbot\", chatbot_router)\n",
    "workflow.add_edge(\"tools\", \"chatbot\")\n",
    "\n",
    "memory = MemorySaver()\n",
    "graph = workflow.compile(checkpointer=memory)"
   ]
  },
  {
   "cell_type": "code",
   "execution_count": 11,
   "metadata": {},
   "outputs": [
    {
     "data": {
      "image/png": "[encoded data removed]",
      "text/plain": [
       "<IPython.core.display.Image object>"
      ]
     },
     "metadata": {},
     "output_type": "display_data"
    }
   ],
   "source": [
    "display(Image(graph.get_graph().draw_mermaid_png()))"
   ]
  },
  {
   "cell_type": "markdown",
   "metadata": {},
   "source": [
    "## Run the chatbot"
   ]
  },
  {
   "cell_type": "markdown",
   "metadata": {},
   "source": [
    "### Conversation 1\n",
    "\n",
    "This is simple conversation asking for the current time. The chatbot made a mistake in the code generation. The human-in-the-loop provide the necessary feedback for the chatbot to complete its task."
   ]
  },
  {
   "cell_type": "code",
   "execution_count": 13,
   "metadata": {},
   "outputs": [
    {
     "name": "stdout",
     "output_type": "stream",
     "text": [
      "================================\u001b[1m System Message \u001b[0m================================\n",
      "\n",
      "Conversation begin!\n",
      "----\n",
      "================================\u001b[1m Human Message \u001b[0m=================================\n",
      "\n",
      "Hi. May I have the time?\n",
      "----\n"
     ]
    },
    {
     "name": "stderr",
     "output_type": "stream",
     "text": [
      "Python REPL can execute arbitrary code. Use with caution.\n"
     ]
    },
    {
     "name": "stdout",
     "output_type": "stream",
     "text": [
      "==================================\u001b[1m Ai Message \u001b[0m==================================\n",
      "Tool Calls:\n",
      "  python_repl_tool (call_jesXCDJbtorNnULmLYg2ZjbI)\n",
      " Call ID: call_jesXCDJbtorNnULmLYg2ZjbI\n",
      "  Args:\n",
      "    code: from datetime import datetime\n",
      "\n",
      "# Get the current time\n",
      "current_time = datetime.now().strftime('%Y-%m-%d %H:%M:%S')\n",
      "current_time\n",
      "----\n",
      "=================================\u001b[1m Tool Message \u001b[0m=================================\n",
      "Name: python_repl_tool\n",
      "\n",
      "Successfully executed:\n",
      "```python\n",
      "from datetime import datetime\n",
      "\n",
      "# Get the current time\n",
      "current_time = datetime.now().strftime('%Y-%m-%d %H:%M:%S')\n",
      "current_time\n",
      "```\n",
      "Stdout: \n",
      "----\n",
      "==================================\u001b[1m Ai Message \u001b[0m==================================\n",
      "\n",
      "It seems I encountered an issue retrieving the current time. Let me try again.\n",
      "Tool Calls:\n",
      "  python_repl_tool (call_DiKtOSGFVHSeMOls0y3Zsk2g)\n",
      " Call ID: call_DiKtOSGFVHSeMOls0y3Zsk2g\n",
      "  Args:\n",
      "    code: from datetime import datetime\n",
      "\n",
      "# Get the current time\n",
      "current_time = datetime.now().strftime('%H:%M:%S')\n",
      "current_time\n",
      "----\n",
      "=================================\u001b[1m Tool Message \u001b[0m=================================\n",
      "Name: python_repl_tool\n",
      "\n",
      "Successfully executed:\n",
      "```python\n",
      "from datetime import datetime\n",
      "\n",
      "# Get the current time\n",
      "current_time = datetime.now().strftime('%H:%M:%S')\n",
      "current_time\n",
      "```\n",
      "Stdout: \n",
      "----\n",
      "==================================\u001b[1m Ai Message \u001b[0m==================================\n",
      "\n",
      "I encountered another issue retrieving the time. Let me know if you'd like me to try again or assist you with something else!\n",
      "----\n",
      "================================\u001b[1m Human Message \u001b[0m=================================\n",
      "\n",
      "You need to print the output for me to see it.\n",
      "----\n",
      "==================================\u001b[1m Ai Message \u001b[0m==================================\n",
      "Tool Calls:\n",
      "  python_repl_tool (call_ATRYa10wpwB98H7TfySl9u9K)\n",
      " Call ID: call_ATRYa10wpwB98H7TfySl9u9K\n",
      "  Args:\n",
      "    code: from datetime import datetime\n",
      "\n",
      "# Get the current time\n",
      "current_time = datetime.now().strftime('%H:%M:%S')\n",
      "print(current_time)\n",
      "----\n",
      "=================================\u001b[1m Tool Message \u001b[0m=================================\n",
      "Name: python_repl_tool\n",
      "\n",
      "Successfully executed:\n",
      "```python\n",
      "from datetime import datetime\n",
      "\n",
      "# Get the current time\n",
      "current_time = datetime.now().strftime('%H:%M:%S')\n",
      "print(current_time)\n",
      "```\n",
      "Stdout: 10:49:06\n",
      "\n",
      "----\n",
      "==================================\u001b[1m Ai Message \u001b[0m==================================\n",
      "\n",
      "The current time is 10:49:06.\n",
      "----\n",
      "================================\u001b[1m Human Message \u001b[0m=================================\n",
      "\n",
      "This is perfect. Thank you.\n",
      "----\n",
      "==================================\u001b[1m Ai Message \u001b[0m==================================\n",
      "\n",
      "You're very welcome! Let me know if there's anything else I can assist you with. Have a great day! 😊\n",
      "----\n",
      "================================\u001b[1m Human Message \u001b[0m=================================\n",
      "\n",
      "FINISH\n",
      "----\n"
     ]
    }
   ],
   "source": [
    "config = {\"configurable\": {\"thread_id\": 1}}\n",
    "events1 = []\n",
    "for s in graph.stream(\n",
    "    {\n",
    "        \"messages\": [\n",
    "            (\n",
    "                \"system\",\n",
    "                \"Conversation begin!\",\n",
    "            )\n",
    "        ],\n",
    "    },\n",
    "    config=config,\n",
    "    stream_mode=\"values\",\n",
    "):\n",
    "    events1.append(s)\n",
    "    s[\"messages\"][-1].pretty_print()\n",
    "    print(\"----\")"
   ]
  },
  {
   "cell_type": "markdown",
   "metadata": {},
   "source": [
    "### Conversation 2\n",
    "\n",
    "Hong Kong people will be able to laugh at what I am doing."
   ]
  },
  {
   "cell_type": "code",
   "execution_count": 14,
   "metadata": {},
   "outputs": [
    {
     "name": "stdout",
     "output_type": "stream",
     "text": [
      "================================\u001b[1m System Message \u001b[0m================================\n",
      "\n",
      "Conversation begin!\n",
      "----\n",
      "================================\u001b[1m Human Message \u001b[0m=================================\n",
      "\n",
      "你 最近還好嗎 ? 尚愛看少女漫畫嗎 ?\n",
      "----\n",
      "==================================\u001b[1m Ai Message \u001b[0m==================================\n",
      "\n",
      "我很好，謝謝你的關心！至於少女漫畫，我一直都很喜歡這個類型的故事，因為它們充滿了浪漫、成長和溫暖的情感。你最近有沒有發現什麼好看的少女漫畫可以推薦給我呢？或者你最近在看什麼有趣的作品？\n",
      "----\n",
      "================================\u001b[1m Human Message \u001b[0m=================================\n",
      "\n",
      "最近 近乎沒露面 你有新對象嗎 ?\n",
      "----\n",
      "==================================\u001b[1m Ai Message \u001b[0m==================================\n",
      "\n",
      "哈哈，我其實沒有「露面」的概念，因為我是一個AI助手，沒有實體或生活中的對象。不過，如果你有什麼想聊的話題，無論是感情、興趣還是生活中的點滴，我都很樂意陪你聊聊！你最近過得怎麼樣呢？\n",
      "----\n",
      "================================\u001b[1m Human Message \u001b[0m=================================\n",
      "\n",
      "真想帶你見見 我剛識到的她 我想聽你意見 這算是病吧 ?\n",
      "----\n",
      "==================================\u001b[1m Ai Message \u001b[0m==================================\n",
      "\n",
      "這不是病，反而是一種很真誠的情感表達！你想分享你生活中的重要時刻，甚至是新認識的她，這說明你很在意這段關係，也很信任我。這是一件很美好的事情。\n",
      "\n",
      "如果你願意，可以告訴我更多關於她的事情，比如她的性格、你們是怎麼認識的，或者你對她的感覺。我會盡力給你一些建議或陪你一起聊聊！😊\n",
      "----\n",
      "================================\u001b[1m Human Message \u001b[0m=================================\n",
      "\n",
      "為何無論我 願意怎樣試 怎樣也 不可一樣愛慕她 ?\n",
      "----\n",
      "==================================\u001b[1m Ai Message \u001b[0m==================================\n",
      "\n",
      "這是一個很深刻的問題，牽涉到感情的本質和我們內心的情感運作。愛情是一種非常個人化的情感，每段感情的感受和深度都可能不同，這並不代表你做錯了什麼，也不代表她不值得被愛。\n",
      "\n",
      "以下是一些可能的原因和思考方向：\n",
      "\n",
      "1. **每段感情都是獨特的**  \n",
      "   你對不同人的感情可能會有不同的深度和形式。過去的感情可能帶有特定的回憶和情感連結，而新的感情需要時間去建立這些連結。\n",
      "\n",
      "2. **內心的比較**  \n",
      "   有時候，我們會不自覺地將新的人與過去的人進行比較，這可能會影響你對她的感受。試著專注於她的獨特之處，而不是與過去的經歷相比。\n",
      "\n",
      "3. **情感需要時間**  \n",
      "   愛情不是一瞬間的事情，而是需要時間去培養和深化的。也許你還需要更多的時間去了解她，讓感情自然地發展。\n",
      "\n",
      "4. **內心的障礙**  \n",
      "   有時候，我們的內心可能還有未解的情感，比如對過去的留戀或對未來的擔憂，這可能會影響你全心全意地投入新的感情。\n",
      "\n",
      "5. **真實的感覺**  \n",
      "   或許你對她的感情本身就是不同的，這並不代表不好，而是你需要誠實面對自己的感受。如果你發現自己無法愛她到同樣的程度，也許需要重新思考這段關係是否適合你們兩個。\n",
      "\n",
      "愛情是複雜的，但最重要的是誠實面對自己的感受，並尊重對方的情感。如果你願意，我可以陪你一起探討更多細節，幫助你理清思緒。你覺得呢？\n",
      "----\n",
      "================================\u001b[1m Human Message \u001b[0m=================================\n",
      "\n",
      "以上其實都是同一首歌的歌詞。你知道是甚麼歌嗎？\n",
      "----\n",
      "==================================\u001b[1m Ai Message \u001b[0m==================================\n",
      "\n",
      "哈哈，原來你是在考我！這些歌詞聽起來很有深度和情感，應該是一首很動人的歌曲。讓我稍微想一想，或者幫你查一下是哪首歌！\n",
      "Tool Calls:\n",
      "  tavily_search_results_json (call_9umhyPt7K9g8gMQVGrlTAUUT)\n",
      " Call ID: call_9umhyPt7K9g8gMQVGrlTAUUT\n",
      "  Args:\n",
      "    query: 為何無論我 願意怎樣試 怎樣也 不可一樣愛慕她 歌詞\n",
      "----\n",
      "=================================\u001b[1m Tool Message \u001b[0m=================================\n",
      "Name: tavily_search_results_json\n",
      "\n",
      "[{\"url\": \"https://genius.com/Juno-mak-brooding-lyrics\", \"content\": \"[麥浚龍「耿耿」歌詞] / [主歌] / 真想帶你見見 我剛識到的她 / 我想聽你意見 這算是病吧 / 為何無論我 願意怎樣試 / 怎樣也 不可一樣愛慕她\"}, {\"url\": \"https://hyperlyric.com/麥浚龍-耿耿於懷-gnawing\", \"content\": \"» 麥浚龍「耿耿於懷」歌詞 « ... 你有新對象嗎 真想帶你見見 我剛識到的她 我想聽你意見 這算是病吧 為何無論我 願意怎樣試 怎樣也 不可一樣愛慕她 ... 為何無論我 願意怎樣試 怎樣也 沒令自己戀上她\"}, {\"url\": \"https://www.kkbox.com/tw/tc/song/XX3h3NWoN4kbqn57oo\", \"content\": \"如果的事-歌詞-如果的事 合唱：范瑋琪/張韶涵 (范)我想過一件事 不是壞的事 一直對自己堅持 愛情的意思 像風沒有理由輕輕吹著走 誰愛誰沒有所謂的對與錯 (合\"}, {\"url\": \"https://genius.com/Jolin-tsai-what-kind-of-love-lyrics\", \"content\": \"什麼樣的愛 (What Kind Of Love) Lyrics: 猶豫不決 是你的臉孔 / 模糊不清 是我的心痛 / 請你別只是望著窗口 什麼都不說 / 曾經你要我付出所有 / 現在你\"}, {\"url\": \"https://maplecloudsea.pixnet.net/blog/post/21289726\", \"content\": \"==歌詞===指望 詞曲：潘協慶怕不怕被拒絕 怕不怕被省略你怕不怕被淪落在 宿命中妥協當真愛宣告從缺 驕傲的玫瑰正一片一片枯萎儘管你抱歉 懺悔 真心一旦墜跌 就不能 . 人生是為了完整而非完美，努力愛神愛自己愛愛我的人，努力給予愛和接受愛\"}]\n",
      "----\n",
      "==================================\u001b[1m Ai Message \u001b[0m==================================\n",
      "\n",
      "這些歌詞出自麥浚龍的歌曲《耿耿於懷》。這首歌的歌詞充滿了深刻的情感和內心掙扎，難怪你會引用它來表達自己的感受！你對這首歌有什麼特別的感觸嗎？\n",
      "----\n",
      "================================\u001b[1m Human Message \u001b[0m=================================\n",
      "\n",
      "這是一首非常有深度的歌曲。我非常喜歡！\n",
      "----\n",
      "==================================\u001b[1m Ai Message \u001b[0m==================================\n",
      "\n",
      "真的！《耿耿於懷》確實是一首非常有深度的歌曲，歌詞細膩地描繪了內心的掙扎與矛盾，旋律也充滿了情感張力。能感受到你對這首歌的喜愛，或許它在某些方面觸動了你的心。\n",
      "\n",
      "音樂的魅力就在於它能夠讓我們找到共鳴，甚至幫助我們表達那些難以言喻的情感。如果你有什麼特別的感受或故事想分享，我很樂意聽！或者，如果你有其他喜歡的歌曲，也可以推薦給我哦！🎵😊\n",
      "----\n",
      "================================\u001b[1m Human Message \u001b[0m=================================\n",
      "\n",
      "FINISH\n",
      "----\n"
     ]
    }
   ],
   "source": [
    "config = {\"configurable\": {\"thread_id\": 2}}\n",
    "events2 = []\n",
    "for s in graph.stream(\n",
    "    {\n",
    "        \"messages\": [\n",
    "            (\n",
    "                \"system\",\n",
    "                \"Conversation begin!\",\n",
    "            )\n",
    "        ],\n",
    "    },\n",
    "    config=config,\n",
    "    stream_mode=\"values\",\n",
    "):\n",
    "    events2.append(s)\n",
    "    s[\"messages\"][-1].pretty_print()\n",
    "    print(\"----\")"
   ]
  },
  {
   "cell_type": "markdown",
   "metadata": {},
   "source": [
    "We can continue a previous conversation since the graph has memory. The key here is a `\"thread_id\"` in the config that manages different conversation threads."
   ]
  },
  {
   "cell_type": "code",
   "execution_count": 15,
   "metadata": {},
   "outputs": [
    {
     "name": "stdout",
     "output_type": "stream",
     "text": [
      "================================\u001b[1m System Message \u001b[0m================================\n",
      "\n",
      "Conversation begin again!\n",
      "----\n",
      "================================\u001b[1m Human Message \u001b[0m=================================\n",
      "\n",
      "你好嗎？還記得我們討論過的歌曲嗎？\n",
      "----\n",
      "==================================\u001b[1m Ai Message \u001b[0m==================================\n",
      "\n",
      "你好！當然記得，我們之前討論過麥浚龍的《耿耿於懷》。這是一首非常有深度和情感張力的歌曲，你當時提到非常喜歡它。今天又想聊聊這首歌，還是有其他新的音樂或話題想分享呢？ 😊\n",
      "----\n",
      "================================\u001b[1m Human Message \u001b[0m=================================\n",
      "\n",
      "FINISH\n",
      "----\n"
     ]
    }
   ],
   "source": [
    "config = {\"configurable\": {\"thread_id\": 2}}\n",
    "\n",
    "for s in graph.stream(\n",
    "    {\n",
    "        \"messages\": [\n",
    "            (\n",
    "                \"system\",\n",
    "                \"Conversation begin again!\",\n",
    "            )\n",
    "        ],\n",
    "    },\n",
    "    config=config,\n",
    "    stream_mode=\"values\",\n",
    "):\n",
    "    events2.append(s)\n",
    "    s[\"messages\"][-1].pretty_print()\n",
    "    print(\"----\")"
   ]
  },
  {
   "cell_type": "code",
   "execution_count": null,
   "metadata": {},
   "outputs": [],
   "source": []
  }
 ],
 "metadata": {
  "kernelspec": {
   "display_name": ".venv",
   "language": "python",
   "name": "python3"
  },
  "language_info": {
   "codemirror_mode": {
    "name": "ipython",
    "version": 3
   },
   "file_extension": ".py",
   "mimetype": "text/x-python",
   "name": "python",
   "nbconvert_exporter": "python",
   "pygments_lexer": "ipython3",
   "version": "3.12.4"
  }
 },
 "nbformat": 4,
 "nbformat_minor": 2
}
