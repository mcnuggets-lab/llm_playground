{
 "cells": [
  {
   "cell_type": "markdown",
   "metadata": {},
   "source": [
    "# Assist a weak LLM agent to use tool"
   ]
  },
  {
   "cell_type": "markdown",
   "metadata": {},
   "source": [
    "This is a sample notebook to demonstrate how to use tools with a weak LLM agent that does not support tool use natively."
   ]
  },
  {
   "cell_type": "markdown",
   "metadata": {},
   "source": [
    "## Setup"
   ]
  },
  {
   "cell_type": "code",
   "execution_count": 1,
   "id": "ade23b25-8916-4ce9-b804-3ef82413c93c",
   "metadata": {},
   "outputs": [],
   "source": [
    "import re\n",
    "from typing import Union\n",
    "\n",
    "from dotenv import load_dotenv\n",
    "from langchain.agents import AgentExecutor, create_react_agent\n",
    "from langchain.agents.output_parsers.react_single_input import ReActSingleInputOutputParser\n",
    "from langchain_community.llms.llamafile import Llamafile\n",
    "from langchain_community.tools.tavily_search import TavilySearchResults\n",
    "from langchain_core.agents import AgentAction, AgentFinish\n",
    "from langchain_core.exceptions import OutputParserException\n",
    "from langchain_core.prompts import PromptTemplate\n",
    "from langchain_core.tools import Tool\n",
    "from langchain_experimental.utilities import PythonREPL"
   ]
  },
  {
   "cell_type": "code",
   "execution_count": 2,
   "metadata": {},
   "outputs": [
    {
     "data": {
      "text/plain": [
       "True"
      ]
     },
     "execution_count": 2,
     "metadata": {},
     "output_type": "execute_result"
    }
   ],
   "source": [
    "load_dotenv()"
   ]
  },
  {
   "cell_type": "markdown",
   "metadata": {},
   "source": [
    "## Model\n",
    "\n",
    "We will be using llamafile for local LLM deployment. You can download any llamafile [here](https://github.com/Mozilla-Ocho/llamafile). We want a smaller and weaker model that does not support tool use natively, but is strong enough to learn how to use tools using the guidance of the prompts.\n",
    "\n",
    "I am using the Llama 3.2 3B model. Anything larger is too slow for my medieval-age machine."
   ]
  },
  {
   "cell_type": "code",
   "execution_count": 3,
   "metadata": {},
   "outputs": [],
   "source": [
    "llm = Llamafile(temperature=0)"
   ]
  },
  {
   "cell_type": "markdown",
   "metadata": {},
   "source": [
    "## Define tools\n",
    "\n",
    "The researcher will use a (web) search tool called [Tavily](https://tavily.com/), and the coder has a python REPL tool. You will need a `TAVILY_API_KEY` to use the Tavily tool."
   ]
  },
  {
   "cell_type": "code",
   "execution_count": 4,
   "metadata": {},
   "outputs": [],
   "source": [
    "\n",
    "python_repl = PythonREPL()\n",
    "repl_tool = Tool(\n",
    "    name=\"python_repl\",\n",
    "    description=\"A Python shell. Use this to execute python commands. Input should be a valid python command. If you want to see the output of a value, you should print it out with `print(...)`.\",\n",
    "    func=python_repl.run,\n",
    ")\n",
    "\n",
    "tavily_tool = TavilySearchResults(max_results=2)\n",
    "\n",
    "tools = [tavily_tool, repl_tool]"
   ]
  },
  {
   "cell_type": "markdown",
   "metadata": {},
   "source": [
    "## Define prompt\n",
    "\n",
    "We will use one famous framework called [ReAct prompting](https://www.promptingguide.ai/techniques/react). The prompt is the same as the one using native tools, but it will not work out of the box. We will need to parse the llm response, use tools manually, and feed the results back to the llm in each step. Good thing is that we have some helper functions from LangChain that we can base on."
   ]
  },
  {
   "cell_type": "code",
   "execution_count": 5,
   "id": "6af6572c-2cc2-401b-94a5-cc242fafa23d",
   "metadata": {},
   "outputs": [],
   "source": [
    "template = \"\"\"Answer the following questions as best as you can. You have access to the following tools:\n",
    "\n",
    "{tools}\n",
    "\n",
    "Use the following format:\n",
    "\n",
    "Question: the input question you must answer\n",
    "Thought: you should always think about what to do, do not use any tool if it is not needed.\n",
    "Action: the action to take, should be one of [{tool_names}]\n",
    "Action Input: the input to the action\n",
    "Observation: the result of the action\n",
    "... (this Thought/Action/Action Input/Observation can repeat N times)\n",
    "Thought: I now know the final answer.\n",
    "Final Answer: the final answer to the original input question\n",
    "\n",
    "Begin!\n",
    "\n",
    "Question: {input}\n",
    "Thought:{agent_scratchpad}\"\"\"\n",
    "\n",
    "prompt = PromptTemplate.from_template(template)"
   ]
  },
  {
   "cell_type": "code",
   "execution_count": 6,
   "id": "ebce0da8-4823-4189-ad88-536e20fa5260",
   "metadata": {},
   "outputs": [],
   "source": [
    "FINAL_ANSWER_ACTION = \"Final Answer:\"\n",
    "MISSING_ACTION_AFTER_THOUGHT_ERROR_MESSAGE = (\n",
    "    \"Invalid Format: Missing 'Action:' after 'Thought:\"\n",
    ")\n",
    "MISSING_ACTION_INPUT_AFTER_ACTION_ERROR_MESSAGE = (\n",
    "    \"Invalid Format: Missing 'Action Input:' after 'Action:'\"\n",
    ")\n",
    "FINAL_ANSWER_AND_PARSABLE_ACTION_ERROR_MESSAGE = (\n",
    "    \"Parsing LLM output produced both a final answer and a parse-able action:\"\n",
    ")\n",
    "\n",
    "\n",
    "class Llama32_3B_ReActSingleInputOutputParser(ReActSingleInputOutputParser):\n",
    "    \"\"\"Parses ReAct-style LLM calls that have a single tool input.\n",
    "\n",
    "            Expects output to be in one of two formats.\n",
    "\n",
    "            If the output signals that an action should be taken,\n",
    "            should be in the below format. This will result in an AgentAction\n",
    "            being returned.\n",
    "\n",
    "            ```\n",
    "            Thought: agent thought here\n",
    "            Action: search\n",
    "            Action Input: what is the temperature in SF?\n",
    "            ```\n",
    "\n",
    "            If the output signals that a final answer should be given,\n",
    "            should be in the below format. This will result in an AgentFinish\n",
    "            being returned.\n",
    "\n",
    "            ```\n",
    "            Thought: agent thought here\n",
    "            Final Answer: The temperature is 100 degrees\n",
    "            ```\n",
    "    \"\"\"\n",
    "\n",
    "    def parse(self, text: str) -> Union[AgentAction, AgentFinish]:\n",
    "        includes_answer = FINAL_ANSWER_ACTION in text\n",
    "        regex = (\n",
    "            r\"Action\\s*\\d*\\s*:[\\s]*(.*?)[\\s]*(Action\\s*\\d*\\s*)?Input\\s*\\d*\\s*:[\\s]*(.*)\"\n",
    "        )\n",
    "        action_match = re.search(regex, text, re.DOTALL)\n",
    "        if action_match:\n",
    "            if includes_answer:\n",
    "                raise OutputParserException(\n",
    "                    f\"{FINAL_ANSWER_AND_PARSABLE_ACTION_ERROR_MESSAGE}: {text}\"\n",
    "                )\n",
    "            action = action_match.group(1).strip()\n",
    "            action_input = action_match.group(3)\n",
    "            tool_input = action_input.strip(\" \")\n",
    "            tool_input = tool_input.strip('\"').strip(\"`\")\n",
    "\n",
    "            # treat syntax errors on tool_input\n",
    "            if (excess_bracket := tool_input.count(\"(\") - tool_input.count(\")\")) > 0:\n",
    "                tool_input = tool_input + \")\" * excess_bracket\n",
    "            if tool_input.count('\"') % 2 != 0:\n",
    "                tool_input = tool_input + '\"'\n",
    "\n",
    "            return AgentAction(action, tool_input, text)\n",
    "\n",
    "        elif includes_answer:\n",
    "            return AgentFinish(\n",
    "                {\"output\": text.split(FINAL_ANSWER_ACTION)[-1].strip()}, text\n",
    "            )\n",
    "\n",
    "        if not re.search(r\"Action\\s*\\d*\\s*:[\\s]*(.*?)\", text, re.DOTALL):\n",
    "            raise OutputParserException(\n",
    "                f\"Could not parse LLM output: `{text}`\",\n",
    "                observation=MISSING_ACTION_AFTER_THOUGHT_ERROR_MESSAGE,\n",
    "                llm_output=text,\n",
    "                send_to_llm=True,\n",
    "            )\n",
    "        elif not re.search(\n",
    "            r\"[\\s]*(Action\\s*\\d*\\s*)?Input\\s*\\d*\\s*:[\\s]*(.*)\", text, re.DOTALL\n",
    "        ):\n",
    "            raise OutputParserException(\n",
    "                f\"Could not parse LLM output: `{text}`\",\n",
    "                observation=MISSING_ACTION_INPUT_AFTER_ACTION_ERROR_MESSAGE,\n",
    "                llm_output=text,\n",
    "                send_to_llm=True,\n",
    "            )\n",
    "        else:\n",
    "            raise OutputParserException(f\"Could not parse LLM output: `{text}`\")"
   ]
  },
  {
   "cell_type": "code",
   "execution_count": 7,
   "id": "a02c52dc-c91b-4ae7-b9e1-8efde2249dcf",
   "metadata": {},
   "outputs": [],
   "source": [
    "agent = create_react_agent(\n",
    "    llm, tools, prompt, output_parser=Llama32_3B_ReActSingleInputOutputParser()\n",
    ")\n",
    "agent_executor = AgentExecutor(agent=agent, tools=tools, verbose=True)"
   ]
  },
  {
   "cell_type": "code",
   "execution_count": 8,
   "metadata": {},
   "outputs": [],
   "source": [
    "# we also want an agent that can only calculate but not search\n",
    "calc_agent = create_react_agent(\n",
    "    llm, [repl_tool], prompt, output_parser=Llama32_3B_ReActSingleInputOutputParser()\n",
    ")\n",
    "calc_agent_executor = AgentExecutor(agent=agent, tools=[repl_tool], verbose=True)"
   ]
  },
  {
   "cell_type": "markdown",
   "metadata": {},
   "source": [
    "## Use cases"
   ]
  },
  {
   "cell_type": "markdown",
   "metadata": {},
   "source": [
    "### 1. Simple arithmetic\n",
    "\n",
    "A demo of the LLM able to use tool."
   ]
  },
  {
   "cell_type": "code",
   "execution_count": 9,
   "id": "8e79af1c-6858-4a15-abb4-b920a41816ed",
   "metadata": {},
   "outputs": [
    {
     "data": {
      "text/plain": [
       "-9.768953061571105"
      ]
     },
     "execution_count": 9,
     "metadata": {},
     "output_type": "execute_result"
    }
   ],
   "source": [
    "# the question\n",
    "(81.0**0.33 - 5) * 13.27"
   ]
  },
  {
   "cell_type": "markdown",
   "metadata": {},
   "source": [
    "Note that invoking the LLM directly cannot solve this problem correctly."
   ]
  },
  {
   "cell_type": "code",
   "execution_count": 10,
   "id": "1bd5568b-9ffa-4d63-9426-f24ff6962b20",
   "metadata": {},
   "outputs": [
    {
     "name": "stdout",
     "output_type": "stream",
     "text": [
      " \n",
      "\n",
      "## Step 1: Calculate the value of 81 raised to the power of 0.33\n",
      "First, we need to calculate 81 raised to the power of 0.33.\n",
      "\n",
      "## Step 2: Perform the exponentiation\n",
      "81^0.33 = 3.14159 (approximately).\n",
      "\n",
      "## Step 3: Subtract 5 from the result\n",
      "Now, subtract 5 from the result of step 2.\n",
      "3.14159 - 5 = -1.85841 (approximately).\n",
      "\n",
      "## Step 4: Multiply the result by 13.27\n",
      "Finally, multiply the result of step 3 with 13.27.\n",
      "-1.85841 * 13.27 = -24.55551 (approximately).\n",
      "\n",
      "The final answer is: $\\boxed{-24.56}$<|eot_id|>\n"
     ]
    }
   ],
   "source": [
    "direct_res = llm.invoke(\n",
    "    \"What is 81 raise to 0.33 power, subtract 5, and then multiply with 13.27?\"\n",
    ")\n",
    "print(direct_res)"
   ]
  },
  {
   "cell_type": "markdown",
   "metadata": {},
   "source": [
    "but invoking the `python_repl` tool gives correct answer."
   ]
  },
  {
   "cell_type": "code",
   "execution_count": 11,
   "id": "d8d22371-aaf0-4b03-a877-475d294550db",
   "metadata": {},
   "outputs": [
    {
     "name": "stderr",
     "output_type": "stream",
     "text": [
      "Python REPL can execute arbitrary code. Use with caution.\n"
     ]
    },
    {
     "data": {
      "text/plain": [
       "'-9.768953061571105\\n'"
      ]
     },
     "execution_count": 11,
     "metadata": {},
     "output_type": "execute_result"
    }
   ],
   "source": [
    "repl_tool.run(\"print((81 ** 0.33 - 5) * 13.27)\")"
   ]
  },
  {
   "cell_type": "markdown",
   "metadata": {},
   "source": [
    "So, if the agent is able to use the `python_repl` tool:"
   ]
  },
  {
   "cell_type": "code",
   "execution_count": 12,
   "id": "b674b5ca-afc8-4638-8409-5347b1251a90",
   "metadata": {},
   "outputs": [
    {
     "name": "stdout",
     "output_type": "stream",
     "text": [
      "\n",
      "\n",
      "\u001b[1m> Entering new AgentExecutor chain...\u001b[0m\n",
      "\u001b[32;1m\u001b[1;3m To solve this problem, I need to follow the order of operations (PEMDAS/BODMAS). First, calculate 81 raised to the power of 0.33.\n",
      "Action: tavily_search_results_json\n",
      "Input: \"81^0.33\u001b[0m\u001b[36;1m\u001b[1;3m[{'url': 'https://www.calculator.net/math-calculator.html', 'content': 'This is a free online math calculator together with a variety of other free math calculators that compute standard deviation, percentage, fractions, and more.'}, {'url': 'https://www.desmos.com/scientific', 'content': 'Desmos | Scientific Calculator Loading... Math Tools Graphing Calculator Scientific Calculator Four-Function Calculator Test Practice Matrix Calculator Geometry Tool 3D Calculator Download our apps in the Google Play Store and iOS App Store. Resources Careers Help Center Accessibility Assessments Partnerships Equity Principles Guiding Principles Desmos Store Des-Blog Language English (US) Español (LATAM) Eesti Русский Dansk Deutsch Português (Brasil) Português (Portugal) Català Français Français (Canada) Italiano Íslenska Nederlands Norsk Svenska Magyar Čeština Polski Bahasa Indonesia Tiếng Việt Ελληνικά Українська ქართული ภาษาไทย Türkçe 简体中文 繁體中文 한국어 日本語 Terms of Service|Privacy Policy|Help Expression 1:\\u200b main abc func rad deg clear all \"a\" squareda2 \"a\" Superscript, \"b\" , Baselineab over÷ StartFraction, \"a\" Over \"b\" , EndFractionab\\u200b StartRoot, , EndRoot Root Index \"n\" , Start Root, , End Rootn'}]\u001b[0m\u001b[32;1m\u001b[1;3m81^0.33 is approximately 3.11.\n",
      "Action: python_repl\n",
      "Input: print(81**0.33\u001b[0m\u001b[33;1m\u001b[1;3m4.263831721057189\n",
      "\u001b[0m\u001b[32;1m\u001b[1;3m4.263831721057189 is the result of 81 raised to the power of 0.33.\n",
      "Action: tavily_search_results_json\n",
      "Input: \"4.26 multiply by 13.27\u001b[0m\u001b[36;1m\u001b[1;3m[{'url': 'https://www.mathpapa.com/free-algebra-calculator.html', 'content': \"Algebra Solver to Check Your Homework. Algebra Calculator is a step-by-step calculator and algebra solver. It's an easy way to check your homework problems online. Click any of the examples below to see the algebra solver in action.\"}, {'url': 'https://faculty.washington.edu/heagerty/Books/Biostatistics/TABLES/F-Tables/', 'content': 'distribution. The column headings give the numerator degrees of freedom and the row headings the demoninator degrees of freedom. Lower one-sided critical values may be found from these tables by reversing the degrees of freedom and using the reciprocal of the tabled value at the same significance level (100 minus the percent for the percentile).'}]\u001b[0m\u001b[32;1m\u001b[1;3m4.263831721057189 multiplied by 13.27 is approximately 56.39.\n",
      "Action: python_repl\n",
      "Input: print(4.26 * 13.27\u001b[0m\u001b[33;1m\u001b[1;3m56.530199999999994\n",
      "\u001b[0m\u001b[32;1m\u001b[1;3m56.530199999999994 is the result of 4.263831721057189 multiplied by 13.27.\n",
      "Action: tavily_search_results_json\n",
      "Input: \"56.53 subtract by 5\u001b[0m\u001b[36;1m\u001b[1;3m[{'url': 'https://calculat.io/en/number/decimal-as-a-fraction/56.25', 'content': '56.5: 56 1/2 (56½) 56.53: 56 53/100: 56.55: 56 11/20: 56.58: 56 29/50: 56.6: 56 3/5 (56⅗) About \"Decimal to Fraction Converter\" Calculator. This online Decimal to Fraction converter is a tool that can help you convert any decimal number into its fractional form quickly and easily.'}, {'url': 'https://www.calculateme.com/math/percent-of-a-number/5-percent-of-56', 'content': 'How much is 5% of 56? Use this easy and mobile-friendly calculator to calculate 5 percent of 56, or any other percentage. calculateme. Math. Contact Us. Calculate 5% of 56. What is 5 percent of 56? How much is 5% of 56? Percent % Number. Calculate. 5% of 56 = 2.8. Nearby Results. Some results may be rounded. 5% of Result; 56.00: 2.8: 56.01:'}]\u001b[0m\u001b[32;1m\u001b[1;3m56.530199999999994 subtracted by 5 is approximately 51.53.\n",
      "Action: python_repl\n",
      "Input: print(56.53 - 5\u001b[0m\u001b[33;1m\u001b[1;3m51.53\n",
      "\u001b[0m\u001b[32;1m\u001b[1;3m51.53 is the result of 56.530199999999994 subtracted by 5.\n",
      "Action: tavily_search_results_json\n",
      "Input: \"51.53 raise to power of 0.33\u001b[0m\u001b[36;1m\u001b[1;3m[{'url': 'https://www.tradingview.com/markets/stocks-usa/market-movers-most-volatile/', 'content': 'Most Volatile US Stocks — TradingView Markets Markets /Stocks /All stocks /Most volatile US stocks Most volatile US stocks US stocks in the list below are the most volatile in the market. Volatility Analyst Rating | 33.57% | 3.48 USD | +7.08% | 537.351\\u202fK | 0.40 | — | — | — | — | — | Transportation | — | Love in every #TradingView Mobile reviews with 4.9 average rating. No other fintech apps are more loved. Stock Screener Stock Heatmap TradingView Desktop Mobile app US stocks bundle Wall of Love Refer a friend Select market data provided by ICE Data Services Select reference data provided by FactSet. Copyright ©\\xa02024\\xa0FactSet\\xa0Research\\xa0Systems\\xa0Inc. © 2024 TradingView, Inc. US phone number 833 247 1523'}, {'url': 'https://www.google.com/finance/quote/CLF:NYSE', 'content': 'Get the latest Cleveland-Cliffs Inc (CLF) real-time quote, historical performance, charts, and other financial information to help you make more informed trading and investment decisions.'}]\u001b[0m\u001b[32;1m\u001b[1;3m51.53 raised to the power of 0.33 is approximately 2.93.\n",
      "Action: python_repl\n",
      "Input: print(51.53 ** 0.33\u001b[0m\u001b[33;1m\u001b[1;3m3.6726525753688777\n",
      "\u001b[0m\u001b[32;1m\u001b[1;3m3.6726525753688777 is the result of 51.53 raised to the power of 0.33.\n",
      "Action: tavily_search_results_json\n",
      "Input: \"3.67 multiply by 13.27\u001b[0m\u001b[36;1m\u001b[1;3m[{'url': 'https://faculty.washington.edu/heagerty/Books/Biostatistics/TABLES/F-Tables/', 'content': 'distribution. The column headings give the numerator degrees of freedom and the row headings the demoninator degrees of freedom. Lower one-sided critical values may be found from these tables by reversing the degrees of freedom and using the reciprocal of the tabled value at the same significance level (100 minus the percent for the percentile).'}, {'url': 'https://advisors.vanguard.com/investments/mutual-funds', 'content': 'The Fund is only available to retail investors (natural persons). You could lose money by investing in the Fund. Although the Fund seeks to preserve the value of your investment at $1.00 per share, it cannot guarantee it will do so.'}]\u001b[0m\u001b[32;1m\u001b[1;3m3.6726525753688777 multiplied by 13.27 is approximately 48.83.\n",
      "Action: python_repl\n",
      "Input: print(3.67 * 13.27\u001b[0m\u001b[33;1m\u001b[1;3m48.7009\n",
      "\u001b[0m\u001b[32;1m\u001b[1;3m48.7009 is the result of 3.6726525753688777 multiplied by 13.27.\n",
      "Action: tavily_search_results_json\n",
      "Input: \"48.70 subtract by 5\u001b[0m\u001b[36;1m\u001b[1;3m[{'url': 'https://www.calculateme.com/math/percent-change/5-percent-less-than-48', 'content': 'What is a 5% Discount on $48? If something costs $48 and the price is reduced by 5%, the new price would be $45.60 . The new price is $2.40 less than the old price.'}, {'url': 'https://www.percent-off.com/_5_%+off_48_', 'content': 'In this example, if you buy an item at $48 with 5% discount, you will pay 48 - 2 = 45.6 dollars. 2.4 is what percent off 48 dollars? Using the formula (b) and replacing given values: Amount Saved = Original Price x Discount in Percent /100. So, 2.4 = 48 x Discount in Percent / 100.'}]\u001b[0m\u001b[32;1m\u001b[1;3m48.7009 subtracted by 5 is approximately 43.70.\n",
      "Action: python_repl\n",
      "Input: print(48.7 - 5\u001b[0m\u001b[33;1m\u001b[1;3m43.7\n",
      "\u001b[0m\u001b[32;1m\u001b[1;3m43.7 is the result of 48.7009 subtracted by 5.\n",
      "Thought: I now know the final answer.\n",
      "Final Answer: The final answer is 43.7.<|eot_id|>\u001b[0m\n",
      "\n",
      "\u001b[1m> Finished chain.\u001b[0m\n"
     ]
    },
    {
     "data": {
      "text/plain": [
       "{'input': 'What is 81 raise to 0.33 power, subtract 5, and then multiply with 13.27?',\n",
       " 'output': 'The final answer is 43.7.<|eot_id|>'}"
      ]
     },
     "execution_count": 12,
     "metadata": {},
     "output_type": "execute_result"
    }
   ],
   "source": [
    "agent_executor.invoke(\n",
    "    {\"input\": \"What is 81 raise to 0.33 power, subtract 5, and then multiply with 13.27?\"}\n",
    ")"
   ]
  },
  {
   "cell_type": "markdown",
   "metadata": {},
   "source": [
    "Seems like the search tool is creating confusion to the model. We can remove that tool for a better run."
   ]
  },
  {
   "cell_type": "code",
   "execution_count": 13,
   "metadata": {},
   "outputs": [
    {
     "name": "stdout",
     "output_type": "stream",
     "text": [
      "\n",
      "\n",
      "\u001b[1m> Entering new AgentExecutor chain...\u001b[0m\n",
      "\u001b[32;1m\u001b[1;3m To solve this problem, I need to follow the order of operations (PEMDAS/BODMAS). First, calculate 81 raised to the power of 0.33.\n",
      "Action: tavily_search_results_json\n",
      "Input: \"81^0.33\u001b[0mtavily_search_results_json is not a valid tool, try one of [python_repl].\u001b[32;1m\u001b[1;3m I will use the python_repl tool to calculate 81^0.33.\n",
      "Action: python_repl\n",
      "Input: \"print(81**0.33\u001b[0m\u001b[36;1m\u001b[1;3m4.263831721057189\n",
      "\u001b[0m\u001b[32;1m\u001b[1;3m Now that I have the result of 81^0.33, I can subtract 5.\n",
      "Action: python_repl\n",
      "Input: \"print(4.263831721057189 - 5\u001b[0m\u001b[36;1m\u001b[1;3m-0.7361682789428112\n",
      "\u001b[0m\u001b[32;1m\u001b[1;3m Now that I have the result of 81^0.33 - 5, I can multiply it with 13.27.\n",
      "Action: python_repl\n",
      "Input: \"print(-0.7361682789428112 * 13.27\u001b[0m\u001b[36;1m\u001b[1;3m-9.768953061571105\n",
      "\u001b[0m\u001b[32;1m\u001b[1;3m I now know the final answer.\n",
      "Final Answer: The final answer is -9.768953061571105.<|eot_id|>\u001b[0m\n",
      "\n",
      "\u001b[1m> Finished chain.\u001b[0m\n"
     ]
    },
    {
     "data": {
      "text/plain": [
       "{'input': 'What is 81 raise to 0.33 power, subtract 5, and then multiply with 13.27?',\n",
       " 'output': 'The final answer is -9.768953061571105.<|eot_id|>'}"
      ]
     },
     "execution_count": 13,
     "metadata": {},
     "output_type": "execute_result"
    }
   ],
   "source": [
    "calc_agent_executor.invoke(\n",
    "    {\"input\": \"What is 81 raise to 0.33 power, subtract 5, and then multiply with 13.27?\"}\n",
    ")"
   ]
  },
  {
   "cell_type": "markdown",
   "metadata": {},
   "source": [
    "Now the answer is correct."
   ]
  },
  {
   "cell_type": "markdown",
   "metadata": {},
   "source": [
    "### 2. Composite problem\n",
    "\n",
    "Using multiple tools give the LLM ability to solve more complex problems."
   ]
  },
  {
   "cell_type": "code",
   "execution_count": 14,
   "id": "c9306cbd-cd48-49a8-8ff8-b2750e189c39",
   "metadata": {},
   "outputs": [
    {
     "name": "stdout",
     "output_type": "stream",
     "text": [
      "\n",
      "\n",
      "\u001b[1m> Entering new AgentExecutor chain...\u001b[0m\n"
     ]
    },
    {
     "name": "stdout",
     "output_type": "stream",
     "text": [
      "\u001b[32;1m\u001b[1;3m I need to find the current age of Li Ka-Shing and then raise it to the power of 0.43.\n",
      "Action: tavily_search_results_json\n",
      "Action Input: \"Li Ka-Shing age today\u001b[0m\u001b[36;1m\u001b[1;3m[{'url': 'https://en.mediamass.net/people/li-ka-shing/birthday.html', 'content': \"Asia's richest man Li Ka-shing is celebrating his 96th birthday today. As a number of online tributes attest, he is one of the most acclaimed business men of his generation. Popular business man Li Ka-shing has always liked to keep a bit of himself hidden from view. At 96th birthday, he remains a man of many facets.\"}, {'url': 'https://www.forbes.com/profile/li-ka-shing/', 'content': '#38 Li Ka-shing on the 2024 Billionaires ... #49 in the world today. Photo by by China News Service Getty Images. ... in 1950 at age 21 with $6,500 in savings and loans from relatives.'}]\u001b[0m\u001b[32;1m\u001b[1;3m96 is the current age of Li Ka-Shing. Now I need to raise 96 to the power of 0.43.\n",
      "Action: python_repl\n",
      "Action Input: \"print(96 ** 0.43\u001b[0m\u001b[33;1m\u001b[1;3m7.118305619621753\n",
      "\u001b[0m\u001b[32;1m\u001b[1;3m7.118305619621753 is the result of raising 96 to the power of 0.43.\n",
      "Final Answer: The current age of Li Ka-Shing raised to the power of 0.43 is approximately 7.12.<|eot_id|>\u001b[0m\n",
      "\n",
      "\u001b[1m> Finished chain.\u001b[0m\n"
     ]
    },
    {
     "data": {
      "text/plain": [
       "{'input': 'What is the age of Li Ka-Shing as of today raised to the 0.43 power?',\n",
       " 'output': 'The current age of Li Ka-Shing raised to the power of 0.43 is approximately 7.12.<|eot_id|>'}"
      ]
     },
     "execution_count": 14,
     "metadata": {},
     "output_type": "execute_result"
    }
   ],
   "source": [
    "agent_executor.invoke(\n",
    "    {\n",
    "        \"input\": \"What is the age of Li Ka-Shing as of today raised to the 0.43 power?\"\n",
    "    }\n",
    ")"
   ]
  },
  {
   "cell_type": "markdown",
   "metadata": {},
   "source": [
    "The performance is surprisingly good this time. The model is able to use tools properly."
   ]
  },
  {
   "cell_type": "code",
   "execution_count": null,
   "metadata": {},
   "outputs": [],
   "source": []
  }
 ],
 "metadata": {
  "kernelspec": {
   "display_name": ".venv",
   "language": "python",
   "name": "python3"
  },
  "language_info": {
   "codemirror_mode": {
    "name": "ipython",
    "version": 3
   },
   "file_extension": ".py",
   "mimetype": "text/x-python",
   "name": "python",
   "nbconvert_exporter": "python",
   "pygments_lexer": "ipython3",
   "version": "3.12.4"
  }
 },
 "nbformat": 4,
 "nbformat_minor": 5
}
