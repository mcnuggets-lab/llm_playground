{
 "cells": [
  {
   "cell_type": "markdown",
   "metadata": {},
   "source": [
    "# Retrieval Augmented Generation (RAG) Agent\n",
    "\n",
    "We built a simple RAG in another notebook. This notebook build RAG using a react agent.\n",
    "\n",
    "Compared to the simple RAG, here retrieval is decided by the LLM during generation. This allows better queries (as the LLM can simply and rephrase the inputs into better queries), and possibly multiple retrievals (or no retrieval at all if the LLM thinks that it is not necessary). One drawback is that we need an LLM that supports tool use natively.\n",
    "\n",
    "We will use [FAISS](https://python.langchain.com/docs/integrations/vectorstores/faiss/) as the vector database (vectorstore).\n",
    "\n",
    "If you are going for a more complicated multi-agent retriever, try [this LangGraph tutorial](https://langchain-ai.github.io/langgraph/tutorials/rag/langgraph_agentic_rag/#graph)."
   ]
  },
  {
   "cell_type": "code",
   "execution_count": 1,
   "metadata": {},
   "outputs": [],
   "source": [
    "# !pip install faiss-cpu langchain_community langchain_openai pandas"
   ]
  },
  {
   "cell_type": "code",
   "execution_count": 2,
   "metadata": {},
   "outputs": [],
   "source": [
    "import os\n",
    "from uuid import uuid4\n",
    "\n",
    "import faiss\n",
    "import pandas as pd\n",
    "from dotenv import load_dotenv\n",
    "from langchain_community.docstore import InMemoryDocstore\n",
    "from langchain_community.embeddings import LlamafileEmbeddings\n",
    "from langchain_community.vectorstores import FAISS\n",
    "from langchain_core.documents import Document\n",
    "from langchain.tools.retriever import create_retriever_tool\n",
    "from langchain_openai import ChatOpenAI\n",
    "from langgraph.prebuilt import create_react_agent"
   ]
  },
  {
   "cell_type": "code",
   "execution_count": 3,
   "metadata": {},
   "outputs": [
    {
     "data": {
      "text/plain": [
       "True"
      ]
     },
     "execution_count": 3,
     "metadata": {},
     "output_type": "execute_result"
    }
   ],
   "source": [
    "load_dotenv()"
   ]
  },
  {
   "cell_type": "markdown",
   "metadata": {},
   "source": [
    "## Load dataset and generate documents\n",
    "\n",
    "We use the [Complete Pokédex dataset](https://www.kaggle.com/datasets/cristobalmitchell/pokedex/data), which is a dataset about Pokemon\n",
    "but unfortunately not that complete.\n",
    "\n",
    "I've included a variant of it in the `data` folder, which I save the original file using comma\n",
    "separation and UTF-8 since the original file is hard to open directly using pandas."
   ]
  },
  {
   "cell_type": "code",
   "execution_count": 4,
   "metadata": {},
   "outputs": [],
   "source": [
    "df = pd.read_csv(\"../data/pokemon.csv\")"
   ]
  },
  {
   "cell_type": "code",
   "execution_count": 5,
   "metadata": {},
   "outputs": [
    {
     "data": {
      "text/html": [
       "<div>\n",
       "<style scoped>\n",
       "    .dataframe tbody tr th:only-of-type {\n",
       "        vertical-align: middle;\n",
       "    }\n",
       "\n",
       "    .dataframe tbody tr th {\n",
       "        vertical-align: top;\n",
       "    }\n",
       "\n",
       "    .dataframe thead th {\n",
       "        text-align: right;\n",
       "    }\n",
       "</style>\n",
       "<table border=\"1\" class=\"dataframe\">\n",
       "  <thead>\n",
       "    <tr style=\"text-align: right;\">\n",
       "      <th></th>\n",
       "      <th>national_number</th>\n",
       "      <th>gen</th>\n",
       "      <th>english_name</th>\n",
       "      <th>japanese_name</th>\n",
       "      <th>primary_type</th>\n",
       "      <th>secondary_type</th>\n",
       "      <th>classification</th>\n",
       "      <th>percent_male</th>\n",
       "      <th>percent_female</th>\n",
       "      <th>height_m</th>\n",
       "      <th>...</th>\n",
       "      <th>evochain_1</th>\n",
       "      <th>evochain_2</th>\n",
       "      <th>evochain_3</th>\n",
       "      <th>evochain_4</th>\n",
       "      <th>evochain_5</th>\n",
       "      <th>evochain_6</th>\n",
       "      <th>gigantamax</th>\n",
       "      <th>mega_evolution</th>\n",
       "      <th>mega_evolution_alt</th>\n",
       "      <th>description</th>\n",
       "    </tr>\n",
       "  </thead>\n",
       "  <tbody>\n",
       "    <tr>\n",
       "      <th>0</th>\n",
       "      <td>1</td>\n",
       "      <td>I</td>\n",
       "      <td>Bulbasaur</td>\n",
       "      <td>Fushigidane</td>\n",
       "      <td>grass</td>\n",
       "      <td>poison</td>\n",
       "      <td>Seed Pokémon</td>\n",
       "      <td>88.14</td>\n",
       "      <td>11.86</td>\n",
       "      <td>0.7</td>\n",
       "      <td>...</td>\n",
       "      <td>Level</td>\n",
       "      <td>Ivysaur</td>\n",
       "      <td>Level</td>\n",
       "      <td>Venusaur</td>\n",
       "      <td>NaN</td>\n",
       "      <td>NaN</td>\n",
       "      <td>NaN</td>\n",
       "      <td>NaN</td>\n",
       "      <td>NaN</td>\n",
       "      <td>There is a plant seed on its back right from t...</td>\n",
       "    </tr>\n",
       "    <tr>\n",
       "      <th>1</th>\n",
       "      <td>2</td>\n",
       "      <td>I</td>\n",
       "      <td>Ivysaur</td>\n",
       "      <td>Fushigisou</td>\n",
       "      <td>grass</td>\n",
       "      <td>poison</td>\n",
       "      <td>Seed Pokémon</td>\n",
       "      <td>88.14</td>\n",
       "      <td>11.86</td>\n",
       "      <td>1.0</td>\n",
       "      <td>...</td>\n",
       "      <td>Level</td>\n",
       "      <td>Ivysaur</td>\n",
       "      <td>Level</td>\n",
       "      <td>Venusaur</td>\n",
       "      <td>NaN</td>\n",
       "      <td>NaN</td>\n",
       "      <td>NaN</td>\n",
       "      <td>NaN</td>\n",
       "      <td>NaN</td>\n",
       "      <td>When the bulb on its back grows large, it appe...</td>\n",
       "    </tr>\n",
       "    <tr>\n",
       "      <th>2</th>\n",
       "      <td>3</td>\n",
       "      <td>I</td>\n",
       "      <td>Venusaur</td>\n",
       "      <td>Fushigibana</td>\n",
       "      <td>grass</td>\n",
       "      <td>poison</td>\n",
       "      <td>Seed Pokémon</td>\n",
       "      <td>88.14</td>\n",
       "      <td>11.86</td>\n",
       "      <td>2.0</td>\n",
       "      <td>...</td>\n",
       "      <td>Level</td>\n",
       "      <td>Ivysaur</td>\n",
       "      <td>Level</td>\n",
       "      <td>Venusaur</td>\n",
       "      <td>NaN</td>\n",
       "      <td>NaN</td>\n",
       "      <td>Gigantamax Venusaur</td>\n",
       "      <td>Mega Venusaur</td>\n",
       "      <td>NaN</td>\n",
       "      <td>Its plant blooms when it is absorbing solar en...</td>\n",
       "    </tr>\n",
       "    <tr>\n",
       "      <th>3</th>\n",
       "      <td>4</td>\n",
       "      <td>I</td>\n",
       "      <td>Charmander</td>\n",
       "      <td>Hitokage</td>\n",
       "      <td>fire</td>\n",
       "      <td>NaN</td>\n",
       "      <td>Lizard Pokémon</td>\n",
       "      <td>88.14</td>\n",
       "      <td>11.86</td>\n",
       "      <td>0.6</td>\n",
       "      <td>...</td>\n",
       "      <td>Level</td>\n",
       "      <td>Charmeleon</td>\n",
       "      <td>Level</td>\n",
       "      <td>Charizard</td>\n",
       "      <td>NaN</td>\n",
       "      <td>NaN</td>\n",
       "      <td>NaN</td>\n",
       "      <td>NaN</td>\n",
       "      <td>NaN</td>\n",
       "      <td>It has a preference for hot things. When it ra...</td>\n",
       "    </tr>\n",
       "    <tr>\n",
       "      <th>4</th>\n",
       "      <td>5</td>\n",
       "      <td>I</td>\n",
       "      <td>Charmeleon</td>\n",
       "      <td>Lizardo</td>\n",
       "      <td>fire</td>\n",
       "      <td>NaN</td>\n",
       "      <td>Flame Pokémon</td>\n",
       "      <td>88.14</td>\n",
       "      <td>11.86</td>\n",
       "      <td>1.1</td>\n",
       "      <td>...</td>\n",
       "      <td>Level</td>\n",
       "      <td>Charmeleon</td>\n",
       "      <td>Level</td>\n",
       "      <td>Charizard</td>\n",
       "      <td>NaN</td>\n",
       "      <td>NaN</td>\n",
       "      <td>NaN</td>\n",
       "      <td>NaN</td>\n",
       "      <td>NaN</td>\n",
       "      <td>It has a barbaric nature. In battle, it whips ...</td>\n",
       "    </tr>\n",
       "    <tr>\n",
       "      <th>...</th>\n",
       "      <td>...</td>\n",
       "      <td>...</td>\n",
       "      <td>...</td>\n",
       "      <td>...</td>\n",
       "      <td>...</td>\n",
       "      <td>...</td>\n",
       "      <td>...</td>\n",
       "      <td>...</td>\n",
       "      <td>...</td>\n",
       "      <td>...</td>\n",
       "      <td>...</td>\n",
       "      <td>...</td>\n",
       "      <td>...</td>\n",
       "      <td>...</td>\n",
       "      <td>...</td>\n",
       "      <td>...</td>\n",
       "      <td>...</td>\n",
       "      <td>...</td>\n",
       "      <td>...</td>\n",
       "      <td>...</td>\n",
       "      <td>...</td>\n",
       "    </tr>\n",
       "    <tr>\n",
       "      <th>893</th>\n",
       "      <td>894</td>\n",
       "      <td>VIII</td>\n",
       "      <td>Regieleki</td>\n",
       "      <td>Regieleki</td>\n",
       "      <td>electric</td>\n",
       "      <td>NaN</td>\n",
       "      <td>Electron Pokémon</td>\n",
       "      <td>NaN</td>\n",
       "      <td>NaN</td>\n",
       "      <td>1.2</td>\n",
       "      <td>...</td>\n",
       "      <td>NaN</td>\n",
       "      <td>NaN</td>\n",
       "      <td>NaN</td>\n",
       "      <td>NaN</td>\n",
       "      <td>NaN</td>\n",
       "      <td>NaN</td>\n",
       "      <td>NaN</td>\n",
       "      <td>NaN</td>\n",
       "      <td>NaN</td>\n",
       "      <td>This Pokémon is a cluster of electrical energy...</td>\n",
       "    </tr>\n",
       "    <tr>\n",
       "      <th>894</th>\n",
       "      <td>895</td>\n",
       "      <td>VIII</td>\n",
       "      <td>Regidrago</td>\n",
       "      <td>Regidrago</td>\n",
       "      <td>dragon</td>\n",
       "      <td>NaN</td>\n",
       "      <td>Dragon Orb Pokémon</td>\n",
       "      <td>NaN</td>\n",
       "      <td>NaN</td>\n",
       "      <td>2.1</td>\n",
       "      <td>...</td>\n",
       "      <td>NaN</td>\n",
       "      <td>NaN</td>\n",
       "      <td>NaN</td>\n",
       "      <td>NaN</td>\n",
       "      <td>NaN</td>\n",
       "      <td>NaN</td>\n",
       "      <td>NaN</td>\n",
       "      <td>NaN</td>\n",
       "      <td>NaN</td>\n",
       "      <td>An academic theory proposes that Regidrago’s a...</td>\n",
       "    </tr>\n",
       "    <tr>\n",
       "      <th>895</th>\n",
       "      <td>896</td>\n",
       "      <td>VIII</td>\n",
       "      <td>Glastrier</td>\n",
       "      <td>Blizapos</td>\n",
       "      <td>ice</td>\n",
       "      <td>NaN</td>\n",
       "      <td>Wild Horse Pokémon</td>\n",
       "      <td>NaN</td>\n",
       "      <td>NaN</td>\n",
       "      <td>2.2</td>\n",
       "      <td>...</td>\n",
       "      <td>NaN</td>\n",
       "      <td>NaN</td>\n",
       "      <td>NaN</td>\n",
       "      <td>NaN</td>\n",
       "      <td>NaN</td>\n",
       "      <td>NaN</td>\n",
       "      <td>NaN</td>\n",
       "      <td>NaN</td>\n",
       "      <td>NaN</td>\n",
       "      <td>Glastrier emits intense cold from its hooves. ...</td>\n",
       "    </tr>\n",
       "    <tr>\n",
       "      <th>896</th>\n",
       "      <td>897</td>\n",
       "      <td>VIII</td>\n",
       "      <td>Spectrier</td>\n",
       "      <td>Rayspos</td>\n",
       "      <td>ghost</td>\n",
       "      <td>NaN</td>\n",
       "      <td>Swift Horse Pokémon</td>\n",
       "      <td>NaN</td>\n",
       "      <td>NaN</td>\n",
       "      <td>2.0</td>\n",
       "      <td>...</td>\n",
       "      <td>NaN</td>\n",
       "      <td>NaN</td>\n",
       "      <td>NaN</td>\n",
       "      <td>NaN</td>\n",
       "      <td>NaN</td>\n",
       "      <td>NaN</td>\n",
       "      <td>NaN</td>\n",
       "      <td>NaN</td>\n",
       "      <td>NaN</td>\n",
       "      <td>It probes its surroundings with all its senses...</td>\n",
       "    </tr>\n",
       "    <tr>\n",
       "      <th>897</th>\n",
       "      <td>898</td>\n",
       "      <td>VIII</td>\n",
       "      <td>Calyrex</td>\n",
       "      <td>Badrex</td>\n",
       "      <td>psychic</td>\n",
       "      <td>grass</td>\n",
       "      <td>King Pokémon</td>\n",
       "      <td>NaN</td>\n",
       "      <td>NaN</td>\n",
       "      <td>1.1</td>\n",
       "      <td>...</td>\n",
       "      <td>NaN</td>\n",
       "      <td>NaN</td>\n",
       "      <td>NaN</td>\n",
       "      <td>NaN</td>\n",
       "      <td>NaN</td>\n",
       "      <td>NaN</td>\n",
       "      <td>NaN</td>\n",
       "      <td>NaN</td>\n",
       "      <td>NaN</td>\n",
       "      <td>Calyrex is a merciful Pokémon, capable of prov...</td>\n",
       "    </tr>\n",
       "  </tbody>\n",
       "</table>\n",
       "<p>898 rows × 55 columns</p>\n",
       "</div>"
      ],
      "text/plain": [
       "     national_number   gen english_name japanese_name primary_type  \\\n",
       "0                  1     I    Bulbasaur   Fushigidane        grass   \n",
       "1                  2     I      Ivysaur    Fushigisou        grass   \n",
       "2                  3     I     Venusaur   Fushigibana        grass   \n",
       "3                  4     I   Charmander      Hitokage         fire   \n",
       "4                  5     I   Charmeleon       Lizardo         fire   \n",
       "..               ...   ...          ...           ...          ...   \n",
       "893              894  VIII    Regieleki     Regieleki     electric   \n",
       "894              895  VIII    Regidrago     Regidrago       dragon   \n",
       "895              896  VIII    Glastrier      Blizapos          ice   \n",
       "896              897  VIII    Spectrier       Rayspos        ghost   \n",
       "897              898  VIII      Calyrex        Badrex      psychic   \n",
       "\n",
       "    secondary_type       classification percent_male percent_female  height_m  \\\n",
       "0           poison         Seed Pokémon        88.14          11.86       0.7   \n",
       "1           poison         Seed Pokémon        88.14          11.86       1.0   \n",
       "2           poison         Seed Pokémon        88.14          11.86       2.0   \n",
       "3              NaN       Lizard Pokémon        88.14          11.86       0.6   \n",
       "4              NaN        Flame Pokémon        88.14          11.86       1.1   \n",
       "..             ...                  ...          ...            ...       ...   \n",
       "893            NaN     Electron Pokémon          NaN            NaN       1.2   \n",
       "894            NaN   Dragon Orb Pokémon          NaN            NaN       2.1   \n",
       "895            NaN   Wild Horse Pokémon          NaN            NaN       2.2   \n",
       "896            NaN  Swift Horse Pokémon          NaN            NaN       2.0   \n",
       "897          grass         King Pokémon          NaN            NaN       1.1   \n",
       "\n",
       "     ...  evochain_1  evochain_2  evochain_3  evochain_4  evochain_5  \\\n",
       "0    ...      Level      Ivysaur      Level     Venusaur         NaN   \n",
       "1    ...      Level      Ivysaur      Level     Venusaur         NaN   \n",
       "2    ...      Level      Ivysaur      Level     Venusaur         NaN   \n",
       "3    ...      Level   Charmeleon      Level    Charizard         NaN   \n",
       "4    ...      Level   Charmeleon      Level    Charizard         NaN   \n",
       "..   ...         ...         ...         ...         ...         ...   \n",
       "893  ...         NaN         NaN         NaN         NaN         NaN   \n",
       "894  ...         NaN         NaN         NaN         NaN         NaN   \n",
       "895  ...         NaN         NaN         NaN         NaN         NaN   \n",
       "896  ...         NaN         NaN         NaN         NaN         NaN   \n",
       "897  ...         NaN         NaN         NaN         NaN         NaN   \n",
       "\n",
       "     evochain_6           gigantamax  mega_evolution  mega_evolution_alt  \\\n",
       "0           NaN                  NaN             NaN                 NaN   \n",
       "1           NaN                  NaN             NaN                 NaN   \n",
       "2           NaN  Gigantamax Venusaur   Mega Venusaur                 NaN   \n",
       "3           NaN                  NaN             NaN                 NaN   \n",
       "4           NaN                  NaN             NaN                 NaN   \n",
       "..          ...                  ...             ...                 ...   \n",
       "893         NaN                  NaN             NaN                 NaN   \n",
       "894         NaN                  NaN             NaN                 NaN   \n",
       "895         NaN                  NaN             NaN                 NaN   \n",
       "896         NaN                  NaN             NaN                 NaN   \n",
       "897         NaN                  NaN             NaN                 NaN   \n",
       "\n",
       "                                           description  \n",
       "0    There is a plant seed on its back right from t...  \n",
       "1    When the bulb on its back grows large, it appe...  \n",
       "2    Its plant blooms when it is absorbing solar en...  \n",
       "3    It has a preference for hot things. When it ra...  \n",
       "4    It has a barbaric nature. In battle, it whips ...  \n",
       "..                                                 ...  \n",
       "893  This Pokémon is a cluster of electrical energy...  \n",
       "894  An academic theory proposes that Regidrago’s a...  \n",
       "895  Glastrier emits intense cold from its hooves. ...  \n",
       "896  It probes its surroundings with all its senses...  \n",
       "897  Calyrex is a merciful Pokémon, capable of prov...  \n",
       "\n",
       "[898 rows x 55 columns]"
      ]
     },
     "execution_count": 5,
     "metadata": {},
     "output_type": "execute_result"
    }
   ],
   "source": [
    "df"
   ]
  },
  {
   "cell_type": "code",
   "execution_count": 6,
   "metadata": {},
   "outputs": [],
   "source": [
    "def generate_document(row):\n",
    "    doc = f\"\"\"Number: {row[\"national_number\"]:03}\n",
    "Generation: {row[\"gen\"]}\n",
    "Name: {row[\"english_name\"]}\n",
    "Type: {row[\"primary_type\"]}{\" / \" + row[\"secondary_type\"] if pd.notnull(row[\"secondary_type\"]) else \"\"}\n",
    "Species: {row[\"classification\"]}\n",
    "Abilities: {\", \".join([x for x in [row[\"abilities_0\"], row[\"abilities_1\"], row[\"abilities_2\"], row[\"abilities_hidden\"]] if pd.notnull(x)])}\n",
    "Evolutions: {\" -> \".join([x for x in [row[\"evochain_0\"], row[\"evochain_2\"], row[\"evochain_4\"], row[\"evochain_6\"]] if pd.notnull(x)])}\n",
    "Description: {row[\"description\"]}\"\"\"\n",
    "\n",
    "    return Document(page_content=doc, metadata={})"
   ]
  },
  {
   "cell_type": "code",
   "execution_count": 7,
   "metadata": {},
   "outputs": [],
   "source": [
    "df[\"document\"] = df.apply(generate_document, axis=1)"
   ]
  },
  {
   "cell_type": "code",
   "execution_count": 8,
   "metadata": {},
   "outputs": [
    {
     "name": "stdout",
     "output_type": "stream",
     "text": [
      "Number: 001\n",
      "Generation: I\n",
      "Name: Bulbasaur\n",
      "Type: grass / poison\n",
      "Species: Seed Pokémon\n",
      "Abilities: Overgrow, Chlorophyll\n",
      "Evolutions: Bulbasaur -> Ivysaur -> Venusaur\n",
      "Description: There is a plant seed on its back right from the day this Pokémon is born. The seed slowly grows larger.\n"
     ]
    }
   ],
   "source": [
    "print(df.loc[0, \"document\"].page_content)"
   ]
  },
  {
   "cell_type": "markdown",
   "metadata": {},
   "source": [
    "To shorten run time, we will only use pokemon from gen 1. If you have more computation power, or have access to a faster API for embeddings, you can use the full dataset."
   ]
  },
  {
   "cell_type": "code",
   "execution_count": 9,
   "metadata": {},
   "outputs": [],
   "source": [
    "df = df[df[\"gen\"] == \"I\"]"
   ]
  },
  {
   "cell_type": "markdown",
   "metadata": {},
   "source": [
    "## Define embedding and model"
   ]
  },
  {
   "cell_type": "markdown",
   "metadata": {},
   "source": [
    "We are still using the `mxbai-embed-large-v1` Llamafile for embeddings, but this time we use `gpt-4o` for the model. We need a stronger model here due to tool use."
   ]
  },
  {
   "cell_type": "code",
   "execution_count": 10,
   "metadata": {},
   "outputs": [],
   "source": [
    "embeddings = LlamafileEmbeddings()\n",
    "\n",
    "llm = ChatOpenAI(\n",
    "    base_url=os.getenv(\"OPENAI_API_ENDPOINT\"),\n",
    "    api_key=os.getenv(\"OPENAI_API_KEY\"),\n",
    "    model=\"gpt-4o\",\n",
    "    temperature=0,\n",
    ")"
   ]
  },
  {
   "cell_type": "markdown",
   "metadata": {},
   "source": [
    "## Define vectorstore"
   ]
  },
  {
   "cell_type": "code",
   "execution_count": 11,
   "metadata": {},
   "outputs": [],
   "source": [
    "# embed_dim = len(embeddings.embed_query(\"Hello World\"))\n",
    "# index = faiss.IndexFlatL2(embed_dim)\n",
    "\n",
    "# vector_store = FAISS(\n",
    "#     embedding_function=embeddings,\n",
    "#     index=index,\n",
    "#     docstore=InMemoryDocstore(),\n",
    "#     index_to_docstore_id={},\n",
    "# )"
   ]
  },
  {
   "cell_type": "markdown",
   "metadata": {},
   "source": [
    "## Load documents into vectorstore\n",
    "\n",
    "Transform to langchain's Document format, which is suitable for the vector store to consume. Note that our documents are very short, so no chunking is necessary."
   ]
  },
  {
   "cell_type": "code",
   "execution_count": 12,
   "metadata": {},
   "outputs": [],
   "source": [
    "# documents = list(df[\"document\"])\n",
    "# uuids = [str(uuid4()) for _ in range(len(documents))]\n",
    "# for document, uid in zip(tqdm(documents), uuids):\n",
    "#     vector_store.add_documents(documents=[document], ids=[uid])"
   ]
  },
  {
   "cell_type": "code",
   "execution_count": 13,
   "metadata": {},
   "outputs": [],
   "source": [
    "# save and local vectorstore\n",
    "\n",
    "# vector_store.save_local(\"../pokemon_faiss_index\")\n",
    "\n",
    "vector_store = FAISS.load_local(\n",
    "    \"../pokemon_faiss_index\", embeddings, allow_dangerous_deserialization=True\n",
    ")"
   ]
  },
  {
   "cell_type": "markdown",
   "metadata": {},
   "source": [
    "Test the vectorstore a bit."
   ]
  },
  {
   "cell_type": "code",
   "execution_count": 14,
   "metadata": {},
   "outputs": [
    {
     "name": "stdout",
     "output_type": "stream",
     "text": [
      "* [SIM=0.629833] Number: 061\n",
      "Generation: I\n",
      "Name: Poliwhirl\n",
      "Type: water\n",
      "Species: Tadpole Pokémon\n",
      "Abilities: Water Absorb, Damp, Swift Swim\n",
      "Evolutions: Poliwag -> Poliwhirl -> Poliwrath -> Politoed\n",
      "Description: Staring at the swirl on its belly causes drowsiness. This trait of Poliwhirl’s has been used in place of lullabies to get children to go to sleep.\n",
      "* [SIM=0.669940] Number: 097\n",
      "Generation: I\n",
      "Name: Hypno\n",
      "Type: psychic\n",
      "Species: Hypnosis Pokémon\n",
      "Abilities: Insomnia, Forewarn, Inner Focus\n",
      "Evolutions: Drowzee -> Hypno\n",
      "Description: Avoid eye contact if you come across one. It will try to put you to sleep by using its pendulum.\n",
      "* [SIM=0.689354] Number: 143\n",
      "Generation: I\n",
      "Name: Snorlax\n",
      "Type: normal\n",
      "Species: Sleeping Pokémon\n",
      "Abilities: Immunity, Thick Fat, Gluttony\n",
      "Evolutions: Munchlax -> Snorlax\n",
      "Description: It is not satisfied unless it eats over 880 pounds of food every day. When it is done eating, it goes promptly to sleep.\n"
     ]
    }
   ],
   "source": [
    "results = vector_store.similarity_search_with_score(\n",
    "    \"Which pokémon likes sleeping?\", k=3, filter={}\n",
    ")\n",
    "for res, score in results:\n",
    "    print(f\"* [SIM={score:3f}] {res.page_content}\")"
   ]
  },
  {
   "cell_type": "markdown",
   "metadata": {},
   "source": [
    "Make the vectorstore a LangChain retriever for chaining."
   ]
  },
  {
   "cell_type": "code",
   "execution_count": 15,
   "metadata": {},
   "outputs": [],
   "source": [
    "retriever = vector_store.as_retriever(\n",
    "    search_type=\"mmr\",\n",
    "    search_kwargs={\"k\": 3, \"fetch_k\": 20, \"lambda_mult\": 0.5},\n",
    ")\n",
    "\n",
    "retriever_tool = create_retriever_tool(\n",
    "    retriever,\n",
    "    name=\"search_pokemon\",\n",
    "    description=\"A pokemon search engine. Input is any text, output is the basic information of pokemons.\",\n",
    ")"
   ]
  },
  {
   "cell_type": "code",
   "execution_count": 16,
   "metadata": {},
   "outputs": [
    {
     "name": "stdout",
     "output_type": "stream",
     "text": [
      "Number: 039\n",
      "Generation: I\n",
      "Name: Jigglypuff\n",
      "Type: normal / fairy\n",
      "Species: Balloon Pokémon\n",
      "Abilities: Cute Charm, Competitive, Friend Guard\n",
      "Evolutions: Igglybuff -> Jigglypuff -> Wigglytuff\n",
      "Description: Jigglypuff has top-notch lung capacity, even by comparison to other Pokémon. It won’t stop singing its lullabies until its foes fall asleep.\n",
      "----\n",
      "Number: 127\n",
      "Generation: I\n",
      "Name: Pinsir\n",
      "Type: bug\n",
      "Species: Stagbeetle Pokémon\n",
      "Abilities: Hyper Cutter, Mold Breaker, Moxie\n",
      "Evolutions: Pinsir\n",
      "Description: These Pokémon judge one another based on pincers. Thicker, more impressive pincers make for more popularity with the opposite gender.\n",
      "----\n",
      "Number: 025\n",
      "Generation: I\n",
      "Name: Pikachu\n",
      "Type: electric\n",
      "Species: Mouse Pokémon\n",
      "Abilities: Static, Lightning Rod\n",
      "Evolutions: Pichu -> Pikachu -> Raichu\n",
      "Description: Pikachu that can generate powerful electricity have cheek sacs that are extra soft and super stretchy.\n",
      "----\n"
     ]
    }
   ],
   "source": [
    "retr_res = retriever.invoke(\"Which pokémon is the cutest?\")\n",
    "for doc in retr_res:\n",
    "    print(doc.page_content)\n",
    "    print(\"----\")"
   ]
  },
  {
   "cell_type": "markdown",
   "metadata": {},
   "source": [
    "## Define agent"
   ]
  },
  {
   "cell_type": "code",
   "execution_count": 17,
   "metadata": {},
   "outputs": [],
   "source": [
    "# prompt = PromptTemplate.from_template(\"\"\"You are an assistant for question-answering tasks. Use the following pieces of retrieved context to answer the question.\n",
    "# If you don't know the answer, just say that you don't know. Use three sentences maximum and keep the answer concise.\n",
    "# Question: {question} \n",
    "# Context: {context} \n",
    "# Answer:\n",
    "# \"\"\")"
   ]
  },
  {
   "cell_type": "code",
   "execution_count": 18,
   "metadata": {},
   "outputs": [],
   "source": [
    "rag_agent = create_react_agent(llm, [retriever_tool])"
   ]
  },
  {
   "cell_type": "markdown",
   "metadata": {},
   "source": [
    "## Invoke"
   ]
  },
  {
   "cell_type": "code",
   "execution_count": 19,
   "metadata": {},
   "outputs": [
    {
     "name": "stdout",
     "output_type": "stream",
     "text": [
      "{'agent': {'messages': [AIMessage(content='', additional_kwargs={'tool_calls': [{'id': 'call_8kN8Euv63WTT8y9P15XG3VPU', 'function': {'arguments': '{\"query\":\"pokémon that likes sleeping\"}', 'name': 'search_pokemon'}, 'type': 'function'}], 'refusal': None}, response_metadata={'token_usage': {'completion_tokens': 19, 'prompt_tokens': 74, 'total_tokens': 93, 'completion_tokens_details': {'accepted_prediction_tokens': 0, 'audio_tokens': 0, 'reasoning_tokens': 0, 'rejected_prediction_tokens': 0}, 'prompt_tokens_details': {'audio_tokens': 0, 'cached_tokens': 0}}, 'model_name': 'gpt-4o-2024-11-20', 'system_fingerprint': 'fp_82ce25c0d4', 'finish_reason': 'tool_calls', 'logprobs': None}, id='run-fd4dfbdb-67c3-424e-bcf9-f879f5f08f58-0', tool_calls=[{'name': 'search_pokemon', 'args': {'query': 'pokémon that likes sleeping'}, 'id': 'call_8kN8Euv63WTT8y9P15XG3VPU', 'type': 'tool_call'}], usage_metadata={'input_tokens': 74, 'output_tokens': 19, 'total_tokens': 93, 'input_token_details': {'audio': 0, 'cache_read': 0}, 'output_token_details': {'audio': 0, 'reasoning': 0}})]}}\n",
      "----\n",
      "{'tools': {'messages': [ToolMessage(content='Number: 061\\nGeneration: I\\nName: Poliwhirl\\nType: water\\nSpecies: Tadpole Pokémon\\nAbilities: Water Absorb, Damp, Swift Swim\\nEvolutions: Poliwag -> Poliwhirl -> Poliwrath -> Politoed\\nDescription: Staring at the swirl on its belly causes drowsiness. This trait of Poliwhirl’s has been used in place of lullabies to get children to go to sleep.\\n\\nNumber: 143\\nGeneration: I\\nName: Snorlax\\nType: normal\\nSpecies: Sleeping Pokémon\\nAbilities: Immunity, Thick Fat, Gluttony\\nEvolutions: Munchlax -> Snorlax\\nDescription: It is not satisfied unless it eats over 880 pounds of food every day. When it is done eating, it goes promptly to sleep.\\n\\nNumber: 063\\nGeneration: I\\nName: Abra\\nType: psychic\\nSpecies: Psi Pokémon\\nAbilities: Synchronize, Inner Focus, Magic Guard\\nEvolutions: Abra -> Kadabra -> Alakazam\\nDescription: This Pokémon uses its psychic powers while it sleeps. The contents of Abra’s dreams affect the powers that the Pokémon wields.', name='search_pokemon', id='fc4c8c88-4a24-4278-a13c-80b6037b15c6', tool_call_id='call_8kN8Euv63WTT8y9P15XG3VPU')]}}\n",
      "----\n",
      "{'agent': {'messages': [AIMessage(content='The Pokémon most associated with sleeping is **Snorlax**, known as the \"Sleeping Pokémon.\" It is famous for its love of eating and sleeping, often consuming over 880 pounds of food before promptly falling asleep.\\n\\nOther Pokémon related to sleep include:\\n\\n1. **Poliwhirl**: Staring at the swirl on its belly causes drowsiness, and it has been used as a substitute for lullabies.\\n2. **Abra**: This Pokémon sleeps most of the time and uses its psychic powers even while asleep. Its dreams influence its psychic abilities.', additional_kwargs={'refusal': None}, response_metadata={'token_usage': {'completion_tokens': 114, 'prompt_tokens': 348, 'total_tokens': 462, 'completion_tokens_details': {'accepted_prediction_tokens': 0, 'audio_tokens': 0, 'reasoning_tokens': 0, 'rejected_prediction_tokens': 0}, 'prompt_tokens_details': {'audio_tokens': 0, 'cached_tokens': 0}}, 'model_name': 'gpt-4o-2024-11-20', 'system_fingerprint': 'fp_82ce25c0d4', 'finish_reason': 'stop', 'logprobs': None}, id='run-e3ed5b33-5db3-4371-aef8-d3ccb5e87570-0', usage_metadata={'input_tokens': 348, 'output_tokens': 114, 'total_tokens': 462, 'input_token_details': {'audio': 0, 'cache_read': 0}, 'output_token_details': {'audio': 0, 'reasoning': 0}})]}}\n",
      "----\n"
     ]
    }
   ],
   "source": [
    "events = []\n",
    "for s in rag_agent.stream(\n",
    "    {\n",
    "        \"messages\": [\n",
    "            (\n",
    "                \"user\",\n",
    "                \"Which pokémon likes sleeping the most?\",\n",
    "            )\n",
    "        ],\n",
    "    },\n",
    "    # Maximum number of steps to take in the graph\n",
    "    {\"recursion_limit\": 10},\n",
    "):\n",
    "    events.append(s)\n",
    "    print(s)\n",
    "    print(\"----\")"
   ]
  },
  {
   "cell_type": "code",
   "execution_count": 20,
   "metadata": {},
   "outputs": [
    {
     "name": "stdout",
     "output_type": "stream",
     "text": [
      "==================================\u001b[1m Ai Message \u001b[0m==================================\n",
      "Tool Calls:\n",
      "  search_pokemon (call_8kN8Euv63WTT8y9P15XG3VPU)\n",
      " Call ID: call_8kN8Euv63WTT8y9P15XG3VPU\n",
      "  Args:\n",
      "    query: pokémon that likes sleeping\n",
      "=================================\u001b[1m Tool Message \u001b[0m=================================\n",
      "Name: search_pokemon\n",
      "\n",
      "Number: 061\n",
      "Generation: I\n",
      "Name: Poliwhirl\n",
      "Type: water\n",
      "Species: Tadpole Pokémon\n",
      "Abilities: Water Absorb, Damp, Swift Swim\n",
      "Evolutions: Poliwag -> Poliwhirl -> Poliwrath -> Politoed\n",
      "Description: Staring at the swirl on its belly causes drowsiness. This trait of Poliwhirl’s has been used in place of lullabies to get children to go to sleep.\n",
      "\n",
      "Number: 143\n",
      "Generation: I\n",
      "Name: Snorlax\n",
      "Type: normal\n",
      "Species: Sleeping Pokémon\n",
      "Abilities: Immunity, Thick Fat, Gluttony\n",
      "Evolutions: Munchlax -> Snorlax\n",
      "Description: It is not satisfied unless it eats over 880 pounds of food every day. When it is done eating, it goes promptly to sleep.\n",
      "\n",
      "Number: 063\n",
      "Generation: I\n",
      "Name: Abra\n",
      "Type: psychic\n",
      "Species: Psi Pokémon\n",
      "Abilities: Synchronize, Inner Focus, Magic Guard\n",
      "Evolutions: Abra -> Kadabra -> Alakazam\n",
      "Description: This Pokémon uses its psychic powers while it sleeps. The contents of Abra’s dreams affect the powers that the Pokémon wields.\n",
      "==================================\u001b[1m Ai Message \u001b[0m==================================\n",
      "\n",
      "The Pokémon most associated with sleeping is **Snorlax**, known as the \"Sleeping Pokémon.\" It is famous for its love of eating and sleeping, often consuming over 880 pounds of food before promptly falling asleep.\n",
      "\n",
      "Other Pokémon related to sleep include:\n",
      "\n",
      "1. **Poliwhirl**: Staring at the swirl on its belly causes drowsiness, and it has been used as a substitute for lullabies.\n",
      "2. **Abra**: This Pokémon sleeps most of the time and uses its psychic powers even while asleep. Its dreams influence its psychic abilities.\n"
     ]
    }
   ],
   "source": [
    "for s in events:\n",
    "    sender = list(s.keys())[0]\n",
    "    for message in s[sender][\"messages\"]:\n",
    "        if isinstance(message, tuple):\n",
    "            print(message)\n",
    "        else:\n",
    "            message.pretty_print()"
   ]
  },
  {
   "cell_type": "markdown",
   "metadata": {},
   "source": [
    "Note how the LLM simplifies the query instead of directly put in the question to the vectorstore. Snorlax is the right answer."
   ]
  },
  {
   "cell_type": "code",
   "execution_count": 21,
   "metadata": {},
   "outputs": [
    {
     "name": "stdout",
     "output_type": "stream",
     "text": [
      "{'agent': {'messages': [AIMessage(content='The \"cutest\" Pokémon is subjective and depends on personal preferences! Some popular choices for cute Pokémon include:\\n\\n- **Pikachu**: The iconic mascot of Pokémon, known for its adorable cheeks and playful personality.\\n- **Eevee**: Loved for its fluffy tail and big, expressive eyes.\\n- **Jigglypuff**: Known for its round, pink body and sweet singing voice.\\n- **Togepi**: A baby Pokémon with a cute eggshell design.\\n- **Piplup**: A penguin-like Pokémon with a charming demeanor.\\n- **Sylveon**: A Fairy-type evolution of Eevee with a pastel, ribbon-like appearance.\\n\\nIf you\\'d like, I can look up specific Pokémon to see their details and help you decide! Let me know.', additional_kwargs={'refusal': None}, response_metadata={'token_usage': {'completion_tokens': 163, 'prompt_tokens': 73, 'total_tokens': 236, 'completion_tokens_details': {'accepted_prediction_tokens': 0, 'audio_tokens': 0, 'reasoning_tokens': 0, 'rejected_prediction_tokens': 0}, 'prompt_tokens_details': {'audio_tokens': 0, 'cached_tokens': 0}}, 'model_name': 'gpt-4o-2024-11-20', 'system_fingerprint': 'fp_f3927aa00d', 'finish_reason': 'stop', 'logprobs': None}, id='run-c4e49b65-79ee-43d3-b39f-61c79a9daefd-0', usage_metadata={'input_tokens': 73, 'output_tokens': 163, 'total_tokens': 236, 'input_token_details': {'audio': 0, 'cache_read': 0}, 'output_token_details': {'audio': 0, 'reasoning': 0}})]}}\n",
      "----\n"
     ]
    }
   ],
   "source": [
    "events2 = []\n",
    "for s in rag_agent.stream(\n",
    "    {\n",
    "        \"messages\": [\n",
    "            (\n",
    "                \"user\",\n",
    "                \"Which pokémon is the cutest?\",\n",
    "            )\n",
    "        ],\n",
    "    },\n",
    "    # Maximum number of steps to take in the graph\n",
    "    {\"recursion_limit\": 10},\n",
    "):\n",
    "    events2.append(s)\n",
    "    print(s)\n",
    "    print(\"----\")"
   ]
  },
  {
   "cell_type": "code",
   "execution_count": 22,
   "metadata": {},
   "outputs": [
    {
     "name": "stdout",
     "output_type": "stream",
     "text": [
      "==================================\u001b[1m Ai Message \u001b[0m==================================\n",
      "\n",
      "The \"cutest\" Pokémon is subjective and depends on personal preferences! Some popular choices for cute Pokémon include:\n",
      "\n",
      "- **Pikachu**: The iconic mascot of Pokémon, known for its adorable cheeks and playful personality.\n",
      "- **Eevee**: Loved for its fluffy tail and big, expressive eyes.\n",
      "- **Jigglypuff**: Known for its round, pink body and sweet singing voice.\n",
      "- **Togepi**: A baby Pokémon with a cute eggshell design.\n",
      "- **Piplup**: A penguin-like Pokémon with a charming demeanor.\n",
      "- **Sylveon**: A Fairy-type evolution of Eevee with a pastel, ribbon-like appearance.\n",
      "\n",
      "If you'd like, I can look up specific Pokémon to see their details and help you decide! Let me know.\n"
     ]
    }
   ],
   "source": [
    "for s in events2:\n",
    "    sender = list(s.keys())[0]\n",
    "    for message in s[sender][\"messages\"]:\n",
    "        if isinstance(message, tuple):\n",
    "            print(message)\n",
    "        else:\n",
    "            message.pretty_print()"
   ]
  },
  {
   "cell_type": "markdown",
   "metadata": {},
   "source": [
    "The agent is confident in this question and does not use tool at all!"
   ]
  },
  {
   "cell_type": "code",
   "execution_count": 23,
   "metadata": {},
   "outputs": [
    {
     "name": "stdout",
     "output_type": "stream",
     "text": [
      "{'agent': {'messages': [AIMessage(content='', additional_kwargs={'tool_calls': [{'id': 'call_LSkYFuT8OFsCKgHT73HzQIfL', 'function': {'arguments': '{\"query\":\"cutest Pokémon\"}', 'name': 'search_pokemon'}, 'type': 'function'}], 'refusal': None}, response_metadata={'token_usage': {'completion_tokens': 17, 'prompt_tokens': 90, 'total_tokens': 107, 'completion_tokens_details': {'accepted_prediction_tokens': 0, 'audio_tokens': 0, 'reasoning_tokens': 0, 'rejected_prediction_tokens': 0}, 'prompt_tokens_details': {'audio_tokens': 0, 'cached_tokens': 0}}, 'model_name': 'gpt-4o-2024-11-20', 'system_fingerprint': 'fp_82ce25c0d4', 'finish_reason': 'tool_calls', 'logprobs': None}, id='run-87e2081c-ee33-4f1b-8cdf-e19235b30c96-0', tool_calls=[{'name': 'search_pokemon', 'args': {'query': 'cutest Pokémon'}, 'id': 'call_LSkYFuT8OFsCKgHT73HzQIfL', 'type': 'tool_call'}], usage_metadata={'input_tokens': 90, 'output_tokens': 17, 'total_tokens': 107, 'input_token_details': {'audio': 0, 'cache_read': 0}, 'output_token_details': {'audio': 0, 'reasoning': 0}})]}}\n",
      "----\n",
      "{'tools': {'messages': [ToolMessage(content='Number: 039\\nGeneration: I\\nName: Jigglypuff\\nType: normal / fairy\\nSpecies: Balloon Pokémon\\nAbilities: Cute Charm, Competitive, Friend Guard\\nEvolutions: Igglybuff -> Jigglypuff -> Wigglytuff\\nDescription: Jigglypuff has top-notch lung capacity, even by comparison to other Pokémon. It won’t stop singing its lullabies until its foes fall asleep.\\n\\nNumber: 127\\nGeneration: I\\nName: Pinsir\\nType: bug\\nSpecies: Stagbeetle Pokémon\\nAbilities: Hyper Cutter, Mold Breaker, Moxie\\nEvolutions: Pinsir\\nDescription: These Pokémon judge one another based on pincers. Thicker, more impressive pincers make for more popularity with the opposite gender.\\n\\nNumber: 025\\nGeneration: I\\nName: Pikachu\\nType: electric\\nSpecies: Mouse Pokémon\\nAbilities: Static, Lightning Rod\\nEvolutions: Pichu -> Pikachu -> Raichu\\nDescription: Pikachu that can generate powerful electricity have cheek sacs that are extra soft and super stretchy.', name='search_pokemon', id='75ab56a5-28d6-42e8-877a-711373956799', tool_call_id='call_LSkYFuT8OFsCKgHT73HzQIfL')]}}\n",
      "----\n",
      "{'agent': {'messages': [AIMessage(content='Based on the search results, the cutest Pokémon is often considered to be **Jigglypuff**. It is a Balloon Pokémon with abilities like Cute Charm, Competitive, and Friend Guard. Its adorable appearance and soothing lullabies make it a fan favorite for cuteness.', additional_kwargs={'refusal': None}, response_metadata={'token_usage': {'completion_tokens': 56, 'prompt_tokens': 348, 'total_tokens': 404, 'completion_tokens_details': {'accepted_prediction_tokens': 0, 'audio_tokens': 0, 'reasoning_tokens': 0, 'rejected_prediction_tokens': 0}, 'prompt_tokens_details': {'audio_tokens': 0, 'cached_tokens': 0}}, 'model_name': 'gpt-4o-2024-11-20', 'system_fingerprint': 'fp_82ce25c0d4', 'finish_reason': 'stop', 'logprobs': None}, id='run-b022dc03-7e9c-42c6-9b83-908dafcb6ed4-0', usage_metadata={'input_tokens': 348, 'output_tokens': 56, 'total_tokens': 404, 'input_token_details': {'audio': 0, 'cache_read': 0}, 'output_token_details': {'audio': 0, 'reasoning': 0}})]}}\n",
      "----\n"
     ]
    }
   ],
   "source": [
    "events3 = []\n",
    "for s in rag_agent.stream(\n",
    "    {\n",
    "        \"messages\": [\n",
    "            (\n",
    "                \"user\",\n",
    "                \"Which pokémon is the cutest? Make sure you consult the search_pokemon tool and does not make any guess yourself.\",\n",
    "            )\n",
    "        ],\n",
    "    },\n",
    "    # Maximum number of steps to take in the graph\n",
    "    {\"recursion_limit\": 10},\n",
    "):\n",
    "    events3.append(s)\n",
    "    print(s)\n",
    "    print(\"----\")"
   ]
  },
  {
   "cell_type": "code",
   "execution_count": 24,
   "metadata": {},
   "outputs": [
    {
     "name": "stdout",
     "output_type": "stream",
     "text": [
      "==================================\u001b[1m Ai Message \u001b[0m==================================\n",
      "Tool Calls:\n",
      "  search_pokemon (call_LSkYFuT8OFsCKgHT73HzQIfL)\n",
      " Call ID: call_LSkYFuT8OFsCKgHT73HzQIfL\n",
      "  Args:\n",
      "    query: cutest Pokémon\n",
      "=================================\u001b[1m Tool Message \u001b[0m=================================\n",
      "Name: search_pokemon\n",
      "\n",
      "Number: 039\n",
      "Generation: I\n",
      "Name: Jigglypuff\n",
      "Type: normal / fairy\n",
      "Species: Balloon Pokémon\n",
      "Abilities: Cute Charm, Competitive, Friend Guard\n",
      "Evolutions: Igglybuff -> Jigglypuff -> Wigglytuff\n",
      "Description: Jigglypuff has top-notch lung capacity, even by comparison to other Pokémon. It won’t stop singing its lullabies until its foes fall asleep.\n",
      "\n",
      "Number: 127\n",
      "Generation: I\n",
      "Name: Pinsir\n",
      "Type: bug\n",
      "Species: Stagbeetle Pokémon\n",
      "Abilities: Hyper Cutter, Mold Breaker, Moxie\n",
      "Evolutions: Pinsir\n",
      "Description: These Pokémon judge one another based on pincers. Thicker, more impressive pincers make for more popularity with the opposite gender.\n",
      "\n",
      "Number: 025\n",
      "Generation: I\n",
      "Name: Pikachu\n",
      "Type: electric\n",
      "Species: Mouse Pokémon\n",
      "Abilities: Static, Lightning Rod\n",
      "Evolutions: Pichu -> Pikachu -> Raichu\n",
      "Description: Pikachu that can generate powerful electricity have cheek sacs that are extra soft and super stretchy.\n",
      "==================================\u001b[1m Ai Message \u001b[0m==================================\n",
      "\n",
      "Based on the search results, the cutest Pokémon is often considered to be **Jigglypuff**. It is a Balloon Pokémon with abilities like Cute Charm, Competitive, and Friend Guard. Its adorable appearance and soothing lullabies make it a fan favorite for cuteness.\n"
     ]
    }
   ],
   "source": [
    "for s in events3:\n",
    "    sender = list(s.keys())[0]\n",
    "    for message in s[sender][\"messages\"]:\n",
    "        if isinstance(message, tuple):\n",
    "            print(message)\n",
    "        else:\n",
    "            message.pretty_print()"
   ]
  },
  {
   "cell_type": "code",
   "execution_count": null,
   "metadata": {},
   "outputs": [],
   "source": []
  }
 ],
 "metadata": {
  "kernelspec": {
   "display_name": ".venv",
   "language": "python",
   "name": "python3"
  },
  "language_info": {
   "codemirror_mode": {
    "name": "ipython",
    "version": 3
   },
   "file_extension": ".py",
   "mimetype": "text/x-python",
   "name": "python",
   "nbconvert_exporter": "python",
   "pygments_lexer": "ipython3",
   "version": "3.12.4"
  }
 },
 "nbformat": 4,
 "nbformat_minor": 2
}
